{
 "cells": [
  {
   "cell_type": "markdown",
   "metadata": {
    "collapsed": true,
    "deletable": true,
    "editable": true
   },
   "source": [
    "# Language Translation\n",
    "In this project, you’re going to take a peek into the realm of neural network machine translation.  You’ll be training a sequence to sequence model on a dataset of English and French sentences that can translate new sentences from English to French.\n",
    "## Get the Data\n",
    "Since translating the whole language of English to French will take lots of time to train, we have provided you with a small portion of the English corpus."
   ]
  },
  {
   "cell_type": "code",
   "execution_count": 9,
   "metadata": {
    "collapsed": false,
    "deletable": true,
    "editable": true
   },
   "outputs": [],
   "source": [
    "\"\"\"\n",
    "DON'T MODIFY ANYTHING IN THIS CELL\n",
    "\"\"\"\n",
    "import helper\n",
    "import problem_unittests as tests\n",
    "\n",
    "source_path = 'data/small_vocab_en'\n",
    "target_path = 'data/small_vocab_fr'\n",
    "source_text = helper.load_data(source_path)\n",
    "target_text = helper.load_data(target_path)"
   ]
  },
  {
   "cell_type": "markdown",
   "metadata": {
    "deletable": true,
    "editable": true
   },
   "source": [
    "## Explore the Data\n",
    "Play around with view_sentence_range to view different parts of the data."
   ]
  },
  {
   "cell_type": "code",
   "execution_count": 2,
   "metadata": {
    "collapsed": false,
    "deletable": true,
    "editable": true
   },
   "outputs": [
    {
     "name": "stdout",
     "output_type": "stream",
     "text": [
      "Dataset Stats\n",
      "Roughly the number of unique words: 227\n",
      "Number of sentences: 137861\n",
      "Average number of words in a sentence: 13.225277634719028\n",
      "\n",
      "English sentences 0 to 10:\n",
      "new jersey is sometimes quiet during autumn , and it is snowy in april .\n",
      "the united states is usually chilly during july , and it is usually freezing in november .\n",
      "california is usually quiet during march , and it is usually hot in june .\n",
      "the united states is sometimes mild during june , and it is cold in september .\n",
      "your least liked fruit is the grape , but my least liked is the apple .\n",
      "his favorite fruit is the orange , but my favorite is the grape .\n",
      "paris is relaxing during december , but it is usually chilly in july .\n",
      "new jersey is busy during spring , and it is never hot in march .\n",
      "our least liked fruit is the lemon , but my least liked is the grape .\n",
      "the united states is sometimes busy during january , and it is sometimes warm in november .\n",
      "\n",
      "French sentences 0 to 10:\n",
      "new jersey est parfois calme pendant l' automne , et il est neigeux en avril .\n",
      "les états-unis est généralement froid en juillet , et il gèle habituellement en novembre .\n",
      "california est généralement calme en mars , et il est généralement chaud en juin .\n",
      "les états-unis est parfois légère en juin , et il fait froid en septembre .\n",
      "votre moins aimé fruit est le raisin , mais mon moins aimé est la pomme .\n",
      "son fruit préféré est l'orange , mais mon préféré est le raisin .\n",
      "paris est relaxant en décembre , mais il est généralement froid en juillet .\n",
      "new jersey est occupé au printemps , et il est jamais chaude en mars .\n",
      "notre fruit est moins aimé le citron , mais mon moins aimé est le raisin .\n",
      "les états-unis est parfois occupé en janvier , et il est parfois chaud en novembre .\n"
     ]
    }
   ],
   "source": [
    "view_sentence_range = (0, 10)\n",
    "\n",
    "\"\"\"\n",
    "DON'T MODIFY ANYTHING IN THIS CELL\n",
    "\"\"\"\n",
    "import numpy as np\n",
    "\n",
    "print('Dataset Stats')\n",
    "print('Roughly the number of unique words: {}'.format(len({word: None for word in source_text.split()})))\n",
    "\n",
    "sentences = source_text.split('\\n')\n",
    "word_counts = [len(sentence.split()) for sentence in sentences]\n",
    "print('Number of sentences: {}'.format(len(sentences)))\n",
    "print('Average number of words in a sentence: {}'.format(np.average(word_counts)))\n",
    "\n",
    "print()\n",
    "print('English sentences {} to {}:'.format(*view_sentence_range))\n",
    "print('\\n'.join(source_text.split('\\n')[view_sentence_range[0]:view_sentence_range[1]]))\n",
    "print()\n",
    "print('French sentences {} to {}:'.format(*view_sentence_range))\n",
    "print('\\n'.join(target_text.split('\\n')[view_sentence_range[0]:view_sentence_range[1]]))"
   ]
  },
  {
   "cell_type": "markdown",
   "metadata": {
    "deletable": true,
    "editable": true
   },
   "source": [
    "## Implement Preprocessing Function\n",
    "### Text to Word Ids\n",
    "As you did with other RNNs, you must turn the text into a number so the computer can understand it. In the function `text_to_ids()`, you'll turn `source_text` and `target_text` from words to ids.  However, you need to add the `<EOS>` word id at the end of each sentence from `target_text`.  This will help the neural network predict when the sentence should end.\n",
    "\n",
    "You can get the `<EOS>` word id by doing:\n",
    "```python\n",
    "target_vocab_to_int['<EOS>']\n",
    "```\n",
    "You can get other word ids using `source_vocab_to_int` and `target_vocab_to_int`."
   ]
  },
  {
   "cell_type": "code",
   "execution_count": 17,
   "metadata": {
    "collapsed": false
   },
   "outputs": [
    {
     "data": {
      "text/plain": [
       "[0, 1, 2, 3, 4, 5]"
      ]
     },
     "execution_count": 17,
     "metadata": {},
     "output_type": "execute_result"
    }
   ],
   "source": [
    "#list comprehension test\n",
    "a = [x for x in range(5)]\n",
    "a.append(5)\n",
    "a"
   ]
  },
  {
   "cell_type": "code",
   "execution_count": 33,
   "metadata": {
    "collapsed": false,
    "deletable": true,
    "editable": true
   },
   "outputs": [
    {
     "name": "stdout",
     "output_type": "stream",
     "text": [
      "Tests Passed\n"
     ]
    }
   ],
   "source": [
    "def text_to_ids(source_text, target_text, source_vocab_to_int, target_vocab_to_int):\n",
    "    \"\"\"\n",
    "    Convert source and target text to proper word ids\n",
    "    :param source_text: String that contains all the source text.\n",
    "    :param target_text: String that contains all the target text.\n",
    "    :param source_vocab_to_int: Dictionary to go from the source words to an id\n",
    "    :param target_vocab_to_int: Dictionary to go from the target words to an id\n",
    "    :return: A tuple of lists (source_id_text, target_id_text)\n",
    "    \"\"\"\n",
    "    # TODO: Implement Function\n",
    "    source_id_text = [[source_vocab_to_int[word] for word in sentences.split()] \n",
    "                      for sentences in source_text.lower().split('\\n')]\n",
    "    target_id_text = [[target_vocab_to_int[word] for word in sentences.split()] \n",
    "                      for sentences in target_text.lower().split('\\n')]\n",
    "    for sentence in target_id_text:\n",
    "        sentence.append(target_vocab_to_int['<EOS>'])\n",
    "    #print(target_id_text)\n",
    "    #print(target_vocab_to_int['les'])\n",
    "    return source_id_text, target_id_text\n",
    "\n",
    "\"\"\"\n",
    "DON'T MODIFY ANYTHING IN THIS CELL THAT IS BELOW THIS LINE\n",
    "\"\"\"\n",
    "tests.test_text_to_ids(text_to_ids)"
   ]
  },
  {
   "cell_type": "markdown",
   "metadata": {
    "deletable": true,
    "editable": true
   },
   "source": [
    "### Preprocess all the data and save it\n",
    "Running the code cell below will preprocess all the data and save it to file."
   ]
  },
  {
   "cell_type": "code",
   "execution_count": 34,
   "metadata": {
    "collapsed": false,
    "deletable": true,
    "editable": true
   },
   "outputs": [],
   "source": [
    "\"\"\"\n",
    "DON'T MODIFY ANYTHING IN THIS CELL\n",
    "\"\"\"\n",
    "helper.preprocess_and_save_data(source_path, target_path, text_to_ids)"
   ]
  },
  {
   "cell_type": "markdown",
   "metadata": {
    "deletable": true,
    "editable": true
   },
   "source": [
    "# Check Point\n",
    "This is your first checkpoint. If you ever decide to come back to this notebook or have to restart the notebook, you can start from here. The preprocessed data has been saved to disk."
   ]
  },
  {
   "cell_type": "code",
   "execution_count": 6,
   "metadata": {
    "collapsed": false,
    "deletable": true,
    "editable": true
   },
   "outputs": [],
   "source": [
    "\"\"\"\n",
    "DON'T MODIFY ANYTHING IN THIS CELL\n",
    "\"\"\"\n",
    "import numpy as np\n",
    "import helper\n",
    "\n",
    "(source_int_text, target_int_text), (source_vocab_to_int, target_vocab_to_int), _ = helper.load_preprocess()"
   ]
  },
  {
   "cell_type": "markdown",
   "metadata": {
    "deletable": true,
    "editable": true
   },
   "source": [
    "### Check the Version of TensorFlow and Access to GPU\n",
    "This will check to make sure you have the correct version of TensorFlow and access to a GPU"
   ]
  },
  {
   "cell_type": "code",
   "execution_count": 7,
   "metadata": {
    "collapsed": false,
    "deletable": true,
    "editable": true
   },
   "outputs": [
    {
     "name": "stdout",
     "output_type": "stream",
     "text": [
      "TensorFlow Version: 1.0.0\n"
     ]
    },
    {
     "name": "stderr",
     "output_type": "stream",
     "text": [
      "/Users/reddyv/anaconda/envs/dlnd/lib/python3.6/site-packages/ipykernel/__main__.py:14: UserWarning: No GPU found. Please use a GPU to train your neural network.\n"
     ]
    }
   ],
   "source": [
    "\"\"\"\n",
    "DON'T MODIFY ANYTHING IN THIS CELL\n",
    "\"\"\"\n",
    "from distutils.version import LooseVersion\n",
    "import warnings\n",
    "import tensorflow as tf\n",
    "\n",
    "# Check TensorFlow Version\n",
    "assert LooseVersion(tf.__version__) >= LooseVersion('1.0'), 'Please use TensorFlow version 1.0 or newer'\n",
    "print('TensorFlow Version: {}'.format(tf.__version__))\n",
    "\n",
    "# Check for a GPU\n",
    "if not tf.test.gpu_device_name():\n",
    "    warnings.warn('No GPU found. Please use a GPU to train your neural network.')\n",
    "else:\n",
    "    print('Default GPU Device: {}'.format(tf.test.gpu_device_name()))"
   ]
  },
  {
   "cell_type": "markdown",
   "metadata": {
    "deletable": true,
    "editable": true
   },
   "source": [
    "## Build the Neural Network\n",
    "You'll build the components necessary to build a Sequence-to-Sequence model by implementing the following functions below:\n",
    "- `model_inputs`\n",
    "- `process_encoding_input`\n",
    "- `encoding_layer`\n",
    "- `decoding_layer_train`\n",
    "- `decoding_layer_infer`\n",
    "- `decoding_layer`\n",
    "- `seq2seq_model`\n",
    "\n",
    "### Input\n",
    "Implement the `model_inputs()` function to create TF Placeholders for the Neural Network. It should create the following placeholders:\n",
    "\n",
    "- Input text placeholder named \"input\" using the TF Placeholder name parameter with rank 2.\n",
    "- Targets placeholder with rank 2.\n",
    "- Learning rate placeholder with rank 0.\n",
    "- Keep probability placeholder named \"keep_prob\" using the TF Placeholder name parameter with rank 0.\n",
    "\n",
    "Return the placeholders in the following the tuple (Input, Targets, Learing Rate, Keep Probability)"
   ]
  },
  {
   "cell_type": "code",
   "execution_count": 29,
   "metadata": {
    "collapsed": false,
    "deletable": true,
    "editable": true
   },
   "outputs": [
    {
     "name": "stdout",
     "output_type": "stream",
     "text": [
      "Tests Passed\n"
     ]
    }
   ],
   "source": [
    "def model_inputs():\n",
    "    \"\"\"\n",
    "    Create TF Placeholders for input, targets, and learning rate.\n",
    "    :return: Tuple (input, targets, learning rate, keep probability)\n",
    "    \"\"\"\n",
    "    # TODO: Implement Function\n",
    "    input = tf.placeholder(tf.int32, shape=(None,None), name='input')\n",
    "    targets = tf.placeholder(tf.int32, shape=(None,None))\n",
    "    learning_rate = tf.placeholder(tf.float32) \n",
    "    keep_prob = tf.placeholder(tf.float32, name='keep_prob')\n",
    "    return input, targets, learning_rate, keep_prob\n",
    "\n",
    "\"\"\"\n",
    "DON'T MODIFY ANYTHING IN THIS CELL THAT IS BELOW THIS LINE\n",
    "\"\"\"\n",
    "tests.test_model_inputs(model_inputs)"
   ]
  },
  {
   "cell_type": "markdown",
   "metadata": {
    "deletable": true,
    "editable": true
   },
   "source": [
    "### Process Decoding Input\n",
    "Implement `process_decoding_input` using TensorFlow to remove the last word id from each batch in `target_data` and concat the GO ID to the begining of each batch."
   ]
  },
  {
   "cell_type": "code",
   "execution_count": 30,
   "metadata": {
    "collapsed": false,
    "deletable": true,
    "editable": true
   },
   "outputs": [
    {
     "name": "stdout",
     "output_type": "stream",
     "text": [
      "Tests Passed\n"
     ]
    }
   ],
   "source": [
    "def process_decoding_input(target_data, target_vocab_to_int, batch_size):\n",
    "    \"\"\"\n",
    "    Preprocess target data for dencoding\n",
    "    :param target_data: Target Placehoder\n",
    "    :param target_vocab_to_int: Dictionary to go from the target words to an id\n",
    "    :param batch_size: Batch Size\n",
    "    :return: Preprocessed target data\n",
    "    \"\"\"\n",
    "    # TODO: Implement Function\n",
    "    #since target_data is a tensor, need to use tf ops\n",
    "    ending = tf.strided_slice(target_data, begin=[0,0], end=[batch_size, -1],strides=[1,1])\n",
    "    dec_input = tf.concat([tf.fill([batch_size,1],target_vocab_to_int['<GO>']),ending],1)\n",
    "\n",
    "    return dec_input\n",
    "\n",
    "\"\"\"\n",
    "DON'T MODIFY ANYTHING IN THIS CELL THAT IS BELOW THIS LINE\n",
    "\"\"\"\n",
    "tests.test_process_decoding_input(process_decoding_input)"
   ]
  },
  {
   "cell_type": "markdown",
   "metadata": {
    "deletable": true,
    "editable": true
   },
   "source": [
    "### Encoding\n",
    "Implement `encoding_layer()` to create a Encoder RNN layer using [`tf.nn.dynamic_rnn()`](https://www.tensorflow.org/api_docs/python/tf/nn/dynamic_rnn)."
   ]
  },
  {
   "cell_type": "code",
   "execution_count": 31,
   "metadata": {
    "collapsed": false,
    "deletable": true,
    "editable": true
   },
   "outputs": [
    {
     "name": "stdout",
     "output_type": "stream",
     "text": [
      "Tests Passed\n"
     ]
    }
   ],
   "source": [
    "def encoding_layer(rnn_inputs, rnn_size, num_layers, keep_prob):\n",
    "    \"\"\"\n",
    "    Create encoding layer\n",
    "    :param rnn_inputs: Inputs for the RNN\n",
    "    :param rnn_size: RNN Size\n",
    "    :param num_layers: Number of layers\n",
    "    :param keep_prob: Dropout keep probability\n",
    "    :return: RNN state\n",
    "    \"\"\"\n",
    "    # TODO: Implement Function\n",
    "    #Create RNN Cell\n",
    "    enc_cell = tf.contrib.rnn.MultiRNNCell([tf.contrib.rnn.BasicLSTMCell(rnn_size)]*num_layers)\n",
    "    #create an RNN specified by the RNNCell cell\n",
    "    _, rnn_state = tf.nn.dynamic_rnn(enc_cell, rnn_inputs, dtype=tf.float32)\n",
    "    return rnn_state\n",
    "\n",
    "\"\"\"\n",
    "DON'T MODIFY ANYTHING IN THIS CELL THAT IS BELOW THIS LINE\n",
    "\"\"\"\n",
    "tests.test_encoding_layer(encoding_layer)"
   ]
  },
  {
   "cell_type": "markdown",
   "metadata": {
    "deletable": true,
    "editable": true
   },
   "source": [
    "### Decoding - Training\n",
    "Create training logits using [`tf.contrib.seq2seq.simple_decoder_fn_train()`](https://www.tensorflow.org/api_docs/python/tf/contrib/seq2seq/simple_decoder_fn_train) and [`tf.contrib.seq2seq.dynamic_rnn_decoder()`](https://www.tensorflow.org/api_docs/python/tf/contrib/seq2seq/dynamic_rnn_decoder).  Apply the `output_fn` to the [`tf.contrib.seq2seq.dynamic_rnn_decoder()`](https://www.tensorflow.org/api_docs/python/tf/contrib/seq2seq/dynamic_rnn_decoder) outputs."
   ]
  },
  {
   "cell_type": "code",
   "execution_count": 32,
   "metadata": {
    "collapsed": false,
    "deletable": true,
    "editable": true
   },
   "outputs": [
    {
     "name": "stdout",
     "output_type": "stream",
     "text": [
      "Tests Passed\n"
     ]
    }
   ],
   "source": [
    "def decoding_layer_train(encoder_state, dec_cell, dec_embed_input, sequence_length, decoding_scope,\n",
    "                         output_fn, keep_prob):\n",
    "    \"\"\"\n",
    "    Create a decoding layer for training\n",
    "    :param encoder_state: Encoder State\n",
    "    :param dec_cell: Decoder RNN Cell\n",
    "    :param dec_embed_input: Decoder embedded input\n",
    "    :param sequence_length: Sequence Length\n",
    "    :param decoding_scope: TenorFlow Variable Scope for decoding\n",
    "    :param output_fn: Function to apply the output layer\n",
    "    :param keep_prob: Dropout keep probability\n",
    "    :return: Train Logits\n",
    "    \"\"\"\n",
    "    # TODO: Implement Function\n",
    "    #Train Decoder (input = output of encoder, output = translated text)\n",
    "    train_decoder_fn = tf.contrib.seq2seq.simple_decoder_fn_train(encoder_state)\n",
    "    train_pred,_,_ = tf.contrib.seq2seq.dynamic_rnn_decoder(\n",
    "        dec_cell, train_decoder_fn, dec_embed_input, sequence_length, scope=decoding_scope)\n",
    "    \n",
    "    #Apply Output Function to results\n",
    "    train_logits = output_fn(train_pred)\n",
    "    return train_logits\n",
    "\n",
    "\n",
    "\"\"\"\n",
    "DON'T MODIFY ANYTHING IN THIS CELL THAT IS BELOW THIS LINE\n",
    "\"\"\"\n",
    "tests.test_decoding_layer_train(decoding_layer_train)"
   ]
  },
  {
   "cell_type": "markdown",
   "metadata": {
    "deletable": true,
    "editable": true
   },
   "source": [
    "### Decoding - Inference\n",
    "Create inference logits using [`tf.contrib.seq2seq.simple_decoder_fn_inference()`](https://www.tensorflow.org/api_docs/python/tf/contrib/seq2seq/simple_decoder_fn_inference) and [`tf.contrib.seq2seq.dynamic_rnn_decoder()`](https://www.tensorflow.org/api_docs/python/tf/contrib/seq2seq/dynamic_rnn_decoder). "
   ]
  },
  {
   "cell_type": "code",
   "execution_count": 33,
   "metadata": {
    "collapsed": false,
    "deletable": true,
    "editable": true
   },
   "outputs": [
    {
     "name": "stdout",
     "output_type": "stream",
     "text": [
      "Tests Passed\n"
     ]
    }
   ],
   "source": [
    "def decoding_layer_infer(encoder_state, dec_cell, dec_embeddings, start_of_sequence_id, end_of_sequence_id,\n",
    "                         maximum_length, vocab_size, decoding_scope, output_fn, keep_prob):\n",
    "    \"\"\"\n",
    "    Create a decoding layer for inference\n",
    "    :param encoder_state: Encoder state\n",
    "    :param dec_cell: Decoder RNN Cell\n",
    "    :param dec_embeddings: Decoder embeddings\n",
    "    :param start_of_sequence_id: GO ID\n",
    "    :param end_of_sequence_id: EOS Id\n",
    "    :param maximum_length: Maximum length of \n",
    "    :param vocab_size: Size of vocabulary\n",
    "    :param decoding_scope: TensorFlow Variable Scope for decoding\n",
    "    :param output_fn: Function to apply the output layer\n",
    "    :param keep_prob: Dropout keep probability\n",
    "    :return: Inference Logits\n",
    "    \"\"\"\n",
    "    # TODO: Implement Function\n",
    "    infer_decoder_fn = tf.contrib.seq2seq.simple_decoder_fn_inference(output_fn, encoder_state, dec_embeddings,\n",
    "                                    start_of_sequence_id,end_of_sequence_id,maximum_length,vocab_size)\n",
    "    inference_logits,_,_= tf.contrib.seq2seq.dynamic_rnn_decoder(dec_cell,infer_decoder_fn,scope=decoding_scope)\n",
    "    \n",
    "    return inference_logits\n",
    "\n",
    "\n",
    "\"\"\"\n",
    "DON'T MODIFY ANYTHING IN THIS CELL THAT IS BELOW THIS LINE\n",
    "\"\"\"\n",
    "tests.test_decoding_layer_infer(decoding_layer_infer)"
   ]
  },
  {
   "cell_type": "markdown",
   "metadata": {
    "deletable": true,
    "editable": true
   },
   "source": [
    "### Build the Decoding Layer\n",
    "Implement `decoding_layer()` to create a Decoder RNN layer.\n",
    "\n",
    "- Create RNN cell for decoding using `rnn_size` and `num_layers`.\n",
    "- Create the output fuction using [`lambda`](https://docs.python.org/3/tutorial/controlflow.html#lambda-expressions) to transform it's input, logits, to class logits.\n",
    "- Use the your `decoding_layer_train(encoder_state, dec_cell, dec_embed_input, sequence_length, decoding_scope, output_fn, keep_prob)` function to get the training logits.\n",
    "- Use your `decoding_layer_infer(encoder_state, dec_cell, dec_embeddings, start_of_sequence_id, end_of_sequence_id, maximum_length, vocab_size, decoding_scope, output_fn, keep_prob)` function to get the inference logits.\n",
    "\n",
    "Note: You'll need to use [tf.variable_scope](https://www.tensorflow.org/api_docs/python/tf/variable_scope) to share variables between training and inference."
   ]
  },
  {
   "cell_type": "code",
   "execution_count": 34,
   "metadata": {
    "collapsed": false,
    "deletable": true,
    "editable": true
   },
   "outputs": [
    {
     "name": "stdout",
     "output_type": "stream",
     "text": [
      "Tests Passed\n"
     ]
    }
   ],
   "source": [
    "def decoding_layer(dec_embed_input, dec_embeddings, encoder_state, vocab_size, sequence_length, rnn_size,\n",
    "                   num_layers, target_vocab_to_int, keep_prob):\n",
    "    \"\"\"\n",
    "    Create decoding layer\n",
    "    :param dec_embed_input: Decoder embedded input\n",
    "    :param dec_embeddings: Decoder embeddings\n",
    "    :param encoder_state: The encoded state\n",
    "    :param vocab_size: Size of vocabulary\n",
    "    :param sequence_length: Sequence Length\n",
    "    :param rnn_size: RNN Size\n",
    "    :param num_layers: Number of layers\n",
    "    :param target_vocab_to_int: Dictionary to go from the target words to an id\n",
    "    :param keep_prob: Dropout keep probability\n",
    "    :return: Tuple of (Training Logits, Inference Logits)\n",
    "    \"\"\"\n",
    "    # TODO: Implement Function\n",
    "    start_of_sequence_id = target_vocab_to_int['<GO>']\n",
    "    end_of_sequence_id = target_vocab_to_int['<EOS>']\n",
    "    \n",
    "    #Create RNN cell for decoding using rnn_size and num_layers\n",
    "    rnn_cell = tf.contrib.rnn.MultiRNNCell([tf.contrib.rnn.BasicLSTMCell(rnn_size)]*num_layers)\n",
    "    \n",
    "    \n",
    "    \n",
    "    # Use decoder_layer_train() function to get the training logits\n",
    "    with tf.variable_scope('decoding') as decoding_scope:\n",
    "        #Create the output function using lambda to transform it's input, logits to class logits.\n",
    "        output_fn = lambda x: tf.contrib.layers.fully_connected(x, vocab_size, None, scope=decoding_scope)\n",
    "        \n",
    "        train_logits = decoding_layer_train(encoder_state,rnn_cell,dec_embed_input,sequence_length,decoding_scope,\n",
    "                                           output_fn,keep_prob)\n",
    "        \n",
    "    with tf.variable_scope('decoding',reuse=True) as decoding_scope:\n",
    "        infer_logits = decoding_layer_infer(encoder_state,rnn_cell, dec_embeddings,target_vocab_to_int['<GO>'],\n",
    "                                           target_vocab_to_int['<EOS>'],sequence_length,vocab_size,decoding_scope,\n",
    "                                           output_fn,keep_prob)\n",
    "        \n",
    "    return train_logits, infer_logits\n",
    "\n",
    "\n",
    "\"\"\"\n",
    "DON'T MODIFY ANYTHING IN THIS CELL THAT IS BELOW THIS LINE\n",
    "\"\"\"\n",
    "tests.test_decoding_layer(decoding_layer)"
   ]
  },
  {
   "cell_type": "markdown",
   "metadata": {
    "deletable": true,
    "editable": true
   },
   "source": [
    "### Build the Neural Network\n",
    "Apply the functions you implemented above to:\n",
    "\n",
    "- Apply embedding to the input data for the encoder.\n",
    "- Encode the input using your `encoding_layer(rnn_inputs, rnn_size, num_layers, keep_prob)`.\n",
    "- Process target data using your `process_encoding_input(target_data, target_vocab_to_int, batch_size)` function.\n",
    "- Apply embedding to the target data for the decoder.\n",
    "- Decode the encoded input using your `decoding_layer(dec_embed_input, dec_embeddings, encoder_state, vocab_size, sequence_length, rnn_size, num_layers, target_vocab_to_int, keep_prob)`."
   ]
  },
  {
   "cell_type": "code",
   "execution_count": 35,
   "metadata": {
    "collapsed": false,
    "deletable": true,
    "editable": true
   },
   "outputs": [
    {
     "name": "stdout",
     "output_type": "stream",
     "text": [
      "Tests Passed\n"
     ]
    }
   ],
   "source": [
    "def seq2seq_model(input_data, target_data, keep_prob, batch_size, sequence_length, source_vocab_size, target_vocab_size,\n",
    "                  enc_embedding_size, dec_embedding_size, rnn_size, num_layers, target_vocab_to_int):\n",
    "    \"\"\"\n",
    "    Build the Sequence-to-Sequence part of the neural network\n",
    "    :param input_data: Input placeholder\n",
    "    :param target_data: Target placeholder\n",
    "    :param keep_prob: Dropout keep probability placeholder\n",
    "    :param batch_size: Batch Size\n",
    "    :param sequence_length: Sequence Length\n",
    "    :param source_vocab_size: Source vocabulary size\n",
    "    :param target_vocab_size: Target vocabulary size\n",
    "    :param enc_embedding_size: Decoder embedding size\n",
    "    :param dec_embedding_size: Encoder embedding size\n",
    "    :param rnn_size: RNN Size\n",
    "    :param num_layers: Number of layers\n",
    "    :param target_vocab_to_int: Dictionary to go from the target words to an id\n",
    "    :return: Tuple of (Training Logits, Inference Logits)\n",
    "    \"\"\"\n",
    "    # TODO: Implement Function\n",
    "    #ENCODE\n",
    "    #1. Apply embedding to the input data for the encoder.\n",
    "    enc_embed_input = tf.contrib.layers.embed_sequence(input_data,source_vocab_size, enc_embedding_size)\n",
    "    #2. Encode the input using your encoding_layer(rnn_inputs, rnn_size, num_layers, keep_prob).\n",
    "    encoder_state = encoding_layer(enc_embed_input,rnn_size,num_layers,keep_prob)\n",
    "    \n",
    "    #DECODE\n",
    "    #3. Process target data using your process_decoding_input(target_data, target_vocab_to_int, batch_size) function.\n",
    "    dec_input = process_decoding_input(target_data,target_vocab_to_int,batch_size)\n",
    "    #4. Apply embedding to the target data for the decoder.\n",
    "    dec_embeddings = tf.Variable(tf.random_uniform([target_vocab_size,dec_embedding_size]))\n",
    "    dec_embed_input = tf.contrib.layers.embed_sequence(dec_input, target_vocab_size,dec_embedding_size)\n",
    "    #5. Decode the encoded input using your decoding_layer(dec_embed_input, dec_embeddings, encoder_state, vocab_size, sequence_length, rnn_size, num_layers, target_vocab_to_int, keep_prob).\n",
    "    train_logits, infer_logits = decoding_layer(dec_embed_input, dec_embeddings, encoder_state, target_vocab_size,\n",
    "                                               sequence_length, rnn_size, num_layers, target_vocab_to_int, keep_prob)\n",
    "    return train_logits, infer_logits\n",
    "\n",
    "\n",
    "\"\"\"\n",
    "DON'T MODIFY ANYTHING IN THIS CELL THAT IS BELOW THIS LINE\n",
    "\"\"\"\n",
    "tests.test_seq2seq_model(seq2seq_model)"
   ]
  },
  {
   "cell_type": "markdown",
   "metadata": {
    "deletable": true,
    "editable": true
   },
   "source": [
    "## Neural Network Training\n",
    "### Hyperparameters\n",
    "Tune the following parameters:\n",
    "\n",
    "- Set `epochs` to the number of epochs.\n",
    "- Set `batch_size` to the batch size.\n",
    "- Set `rnn_size` to the size of the RNNs.\n",
    "- Set `num_layers` to the number of layers.\n",
    "- Set `encoding_embedding_size` to the size of the embedding for the encoder.\n",
    "- Set `decoding_embedding_size` to the size of the embedding for the decoder.\n",
    "- Set `learning_rate` to the learning rate.\n",
    "- Set `keep_probability` to the Dropout keep probability"
   ]
  },
  {
   "cell_type": "code",
   "execution_count": 44,
   "metadata": {
    "collapsed": true,
    "deletable": true,
    "editable": true
   },
   "outputs": [],
   "source": [
    "# Number of Epochs\n",
    "epochs = 1\n",
    "# Batch Size\n",
    "batch_size = 128\n",
    "# RNN Size\n",
    "rnn_size = 128\n",
    "# Number of Layers\n",
    "num_layers = 2\n",
    "# Embedding Size\n",
    "encoding_embedding_size = 32\n",
    "decoding_embedding_size = 32\n",
    "# Learning Rate\n",
    "learning_rate = 0.001\n",
    "# Dropout Keep Probability\n",
    "keep_probability = 0.7"
   ]
  },
  {
   "cell_type": "markdown",
   "metadata": {
    "deletable": true,
    "editable": true
   },
   "source": [
    "### Build the Graph\n",
    "Build the graph using the neural network you implemented."
   ]
  },
  {
   "cell_type": "code",
   "execution_count": 45,
   "metadata": {
    "collapsed": false,
    "deletable": true,
    "editable": true
   },
   "outputs": [],
   "source": [
    "\"\"\"\n",
    "DON'T MODIFY ANYTHING IN THIS CELL\n",
    "\"\"\"\n",
    "save_path = 'checkpoints/dev'\n",
    "(source_int_text, target_int_text), (source_vocab_to_int, target_vocab_to_int), _ = helper.load_preprocess()\n",
    "max_target_sentence_length = max([len(sentence) for sentence in source_int_text])\n",
    "\n",
    "train_graph = tf.Graph()\n",
    "with train_graph.as_default():\n",
    "    input_data, targets, lr, keep_prob = model_inputs()\n",
    "    sequence_length = tf.placeholder_with_default(max_target_sentence_length, None, name='sequence_length')\n",
    "    input_shape = tf.shape(input_data)\n",
    "    \n",
    "    train_logits, inference_logits = seq2seq_model(\n",
    "        tf.reverse(input_data, [-1]), targets, keep_prob, batch_size, sequence_length, len(source_vocab_to_int), len(target_vocab_to_int),\n",
    "        encoding_embedding_size, decoding_embedding_size, rnn_size, num_layers, target_vocab_to_int)\n",
    "\n",
    "    tf.identity(inference_logits, 'logits')\n",
    "    with tf.name_scope(\"optimization\"):\n",
    "        # Loss function\n",
    "        cost = tf.contrib.seq2seq.sequence_loss(\n",
    "            train_logits,\n",
    "            targets,\n",
    "            tf.ones([input_shape[0], sequence_length]))\n",
    "\n",
    "        # Optimizer\n",
    "        optimizer = tf.train.AdamOptimizer(lr)\n",
    "\n",
    "        # Gradient Clipping\n",
    "        gradients = optimizer.compute_gradients(cost)\n",
    "        capped_gradients = [(tf.clip_by_value(grad, -1., 1.), var) for grad, var in gradients if grad is not None]\n",
    "        train_op = optimizer.apply_gradients(capped_gradients)"
   ]
  },
  {
   "cell_type": "markdown",
   "metadata": {
    "deletable": true,
    "editable": true
   },
   "source": [
    "### Train\n",
    "Train the neural network on the preprocessed data. If you have a hard time getting a good loss, check the forms to see if anyone is having the same problem."
   ]
  },
  {
   "cell_type": "code",
   "execution_count": null,
   "metadata": {
    "collapsed": false,
    "deletable": true,
    "editable": true,
    "scrolled": true
   },
   "outputs": [
    {
     "name": "stdout",
     "output_type": "stream",
     "text": [
      "Epoch   0 Batch    0/1077 - Train Accuracy:  0.138, Validation Accuracy:  0.176, Loss:  5.881\n",
      "Epoch   0 Batch    1/1077 - Train Accuracy:  0.096, Validation Accuracy:  0.176, Loss:  5.872\n",
      "Epoch   0 Batch    2/1077 - Train Accuracy:  0.083, Validation Accuracy:  0.204, Loss:  5.863\n",
      "Epoch   0 Batch    3/1077 - Train Accuracy:  0.157, Validation Accuracy:  0.226, Loss:  5.847\n",
      "Epoch   0 Batch    4/1077 - Train Accuracy:  0.226, Validation Accuracy:  0.307, Loss:  5.827\n",
      "Epoch   0 Batch    5/1077 - Train Accuracy:  0.261, Validation Accuracy:  0.305, Loss:  5.778\n",
      "Epoch   0 Batch    6/1077 - Train Accuracy:  0.243, Validation Accuracy:  0.305, Loss:  5.716\n",
      "Epoch   0 Batch    7/1077 - Train Accuracy:  0.226, Validation Accuracy:  0.305, Loss:  5.596\n",
      "Epoch   0 Batch    8/1077 - Train Accuracy:  0.232, Validation Accuracy:  0.305, Loss:  5.357\n",
      "Epoch   0 Batch    9/1077 - Train Accuracy:  0.236, Validation Accuracy:  0.305, Loss:  5.042\n",
      "Epoch   0 Batch   10/1077 - Train Accuracy:  0.198, Validation Accuracy:  0.305, Loss:  4.850\n",
      "Epoch   0 Batch   11/1077 - Train Accuracy:  0.259, Validation Accuracy:  0.305, Loss:  4.434\n",
      "Epoch   0 Batch   12/1077 - Train Accuracy:  0.230, Validation Accuracy:  0.305, Loss:  4.359\n",
      "Epoch   0 Batch   13/1077 - Train Accuracy:  0.281, Validation Accuracy:  0.305, Loss:  4.049\n",
      "Epoch   0 Batch   14/1077 - Train Accuracy:  0.256, Validation Accuracy:  0.305, Loss:  4.040\n",
      "Epoch   0 Batch   15/1077 - Train Accuracy:  0.236, Validation Accuracy:  0.305, Loss:  4.060\n",
      "Epoch   0 Batch   16/1077 - Train Accuracy:  0.266, Validation Accuracy:  0.319, Loss:  3.926\n",
      "Epoch   0 Batch   17/1077 - Train Accuracy:  0.285, Validation Accuracy:  0.335, Loss:  3.835\n",
      "Epoch   0 Batch   18/1077 - Train Accuracy:  0.270, Validation Accuracy:  0.336, Loss:  3.844\n",
      "Epoch   0 Batch   19/1077 - Train Accuracy:  0.288, Validation Accuracy:  0.337, Loss:  3.680\n",
      "Epoch   0 Batch   20/1077 - Train Accuracy:  0.270, Validation Accuracy:  0.337, Loss:  3.685\n",
      "Epoch   0 Batch   21/1077 - Train Accuracy:  0.259, Validation Accuracy:  0.337, Loss:  3.680\n",
      "Epoch   0 Batch   22/1077 - Train Accuracy:  0.273, Validation Accuracy:  0.342, Loss:  3.618\n",
      "Epoch   0 Batch   23/1077 - Train Accuracy:  0.287, Validation Accuracy:  0.353, Loss:  3.561\n",
      "Epoch   0 Batch   24/1077 - Train Accuracy:  0.292, Validation Accuracy:  0.354, Loss:  3.492\n",
      "Epoch   0 Batch   25/1077 - Train Accuracy:  0.284, Validation Accuracy:  0.352, Loss:  3.509\n",
      "Epoch   0 Batch   26/1077 - Train Accuracy:  0.273, Validation Accuracy:  0.353, Loss:  3.508\n",
      "Epoch   0 Batch   27/1077 - Train Accuracy:  0.317, Validation Accuracy:  0.337, Loss:  3.273\n",
      "Epoch   0 Batch   28/1077 - Train Accuracy:  0.287, Validation Accuracy:  0.337, Loss:  3.387\n",
      "Epoch   0 Batch   29/1077 - Train Accuracy:  0.281, Validation Accuracy:  0.337, Loss:  3.396\n",
      "Epoch   0 Batch   30/1077 - Train Accuracy:  0.267, Validation Accuracy:  0.337, Loss:  3.399\n",
      "Epoch   0 Batch   31/1077 - Train Accuracy:  0.275, Validation Accuracy:  0.339, Loss:  3.407\n",
      "Epoch   0 Batch   32/1077 - Train Accuracy:  0.329, Validation Accuracy:  0.339, Loss:  3.204\n",
      "Epoch   0 Batch   33/1077 - Train Accuracy:  0.304, Validation Accuracy:  0.339, Loss:  3.237\n",
      "Epoch   0 Batch   34/1077 - Train Accuracy:  0.264, Validation Accuracy:  0.339, Loss:  3.329\n",
      "Epoch   0 Batch   35/1077 - Train Accuracy:  0.271, Validation Accuracy:  0.339, Loss:  3.332\n",
      "Epoch   0 Batch   36/1077 - Train Accuracy:  0.295, Validation Accuracy:  0.339, Loss:  3.293\n",
      "Epoch   0 Batch   37/1077 - Train Accuracy:  0.268, Validation Accuracy:  0.339, Loss:  3.318\n",
      "Epoch   0 Batch   38/1077 - Train Accuracy:  0.247, Validation Accuracy:  0.344, Loss:  3.480\n",
      "Epoch   0 Batch   39/1077 - Train Accuracy:  0.292, Validation Accuracy:  0.357, Loss:  3.327\n",
      "Epoch   0 Batch   40/1077 - Train Accuracy:  0.287, Validation Accuracy:  0.357, Loss:  3.297\n",
      "Epoch   0 Batch   41/1077 - Train Accuracy:  0.314, Validation Accuracy:  0.357, Loss:  3.179\n",
      "Epoch   0 Batch   42/1077 - Train Accuracy:  0.301, Validation Accuracy:  0.363, Loss:  3.258\n",
      "Epoch   0 Batch   43/1077 - Train Accuracy:  0.264, Validation Accuracy:  0.363, Loss:  3.310\n",
      "Epoch   0 Batch   44/1077 - Train Accuracy:  0.257, Validation Accuracy:  0.363, Loss:  3.416\n",
      "Epoch   0 Batch   45/1077 - Train Accuracy:  0.298, Validation Accuracy:  0.363, Loss:  3.247\n",
      "Epoch   0 Batch   46/1077 - Train Accuracy:  0.284, Validation Accuracy:  0.366, Loss:  3.328\n",
      "Epoch   0 Batch   47/1077 - Train Accuracy:  0.311, Validation Accuracy:  0.365, Loss:  3.190\n",
      "Epoch   0 Batch   48/1077 - Train Accuracy:  0.318, Validation Accuracy:  0.363, Loss:  3.194\n",
      "Epoch   0 Batch   49/1077 - Train Accuracy:  0.329, Validation Accuracy:  0.366, Loss:  3.138\n",
      "Epoch   0 Batch   50/1077 - Train Accuracy:  0.293, Validation Accuracy:  0.363, Loss:  3.243\n",
      "Epoch   0 Batch   51/1077 - Train Accuracy:  0.318, Validation Accuracy:  0.363, Loss:  3.165\n",
      "Epoch   0 Batch   52/1077 - Train Accuracy:  0.298, Validation Accuracy:  0.363, Loss:  3.197\n",
      "Epoch   0 Batch   53/1077 - Train Accuracy:  0.289, Validation Accuracy:  0.368, Loss:  3.217\n",
      "Epoch   0 Batch   54/1077 - Train Accuracy:  0.294, Validation Accuracy:  0.366, Loss:  3.256\n",
      "Epoch   0 Batch   55/1077 - Train Accuracy:  0.323, Validation Accuracy:  0.369, Loss:  3.093\n",
      "Epoch   0 Batch   56/1077 - Train Accuracy:  0.306, Validation Accuracy:  0.369, Loss:  3.148\n",
      "Epoch   0 Batch   57/1077 - Train Accuracy:  0.375, Validation Accuracy:  0.369, Loss:  2.842\n",
      "Epoch   0 Batch   58/1077 - Train Accuracy:  0.309, Validation Accuracy:  0.369, Loss:  3.114\n",
      "Epoch   0 Batch   59/1077 - Train Accuracy:  0.269, Validation Accuracy:  0.369, Loss:  3.261\n",
      "Epoch   0 Batch   60/1077 - Train Accuracy:  0.333, Validation Accuracy:  0.370, Loss:  3.001\n",
      "Epoch   0 Batch   61/1077 - Train Accuracy:  0.314, Validation Accuracy:  0.375, Loss:  3.095\n",
      "Epoch   0 Batch   62/1077 - Train Accuracy:  0.291, Validation Accuracy:  0.380, Loss:  3.249\n",
      "Epoch   0 Batch   63/1077 - Train Accuracy:  0.358, Validation Accuracy:  0.382, Loss:  2.915\n",
      "Epoch   0 Batch   64/1077 - Train Accuracy:  0.328, Validation Accuracy:  0.383, Loss:  3.069\n",
      "Epoch   0 Batch   65/1077 - Train Accuracy:  0.290, Validation Accuracy:  0.386, Loss:  3.216\n",
      "Epoch   0 Batch   66/1077 - Train Accuracy:  0.328, Validation Accuracy:  0.386, Loss:  3.019\n",
      "Epoch   0 Batch   67/1077 - Train Accuracy:  0.371, Validation Accuracy:  0.386, Loss:  2.891\n",
      "Epoch   0 Batch   68/1077 - Train Accuracy:  0.324, Validation Accuracy:  0.388, Loss:  3.080\n",
      "Epoch   0 Batch   69/1077 - Train Accuracy:  0.353, Validation Accuracy:  0.388, Loss:  2.995\n",
      "Epoch   0 Batch   70/1077 - Train Accuracy:  0.295, Validation Accuracy:  0.387, Loss:  3.162\n",
      "Epoch   0 Batch   71/1077 - Train Accuracy:  0.317, Validation Accuracy:  0.387, Loss:  3.007\n",
      "Epoch   0 Batch   72/1077 - Train Accuracy:  0.326, Validation Accuracy:  0.386, Loss:  2.998\n",
      "Epoch   0 Batch   73/1077 - Train Accuracy:  0.335, Validation Accuracy:  0.388, Loss:  3.004\n",
      "Epoch   0 Batch   74/1077 - Train Accuracy:  0.365, Validation Accuracy:  0.392, Loss:  2.876\n",
      "Epoch   0 Batch   75/1077 - Train Accuracy:  0.354, Validation Accuracy:  0.397, Loss:  2.920\n",
      "Epoch   0 Batch   76/1077 - Train Accuracy:  0.350, Validation Accuracy:  0.407, Loss:  2.968\n",
      "Epoch   0 Batch   77/1077 - Train Accuracy:  0.345, Validation Accuracy:  0.408, Loss:  2.993\n",
      "Epoch   0 Batch   78/1077 - Train Accuracy:  0.317, Validation Accuracy:  0.410, Loss:  3.115\n",
      "Epoch   0 Batch   79/1077 - Train Accuracy:  0.352, Validation Accuracy:  0.395, Loss:  2.974\n",
      "Epoch   0 Batch   80/1077 - Train Accuracy:  0.360, Validation Accuracy:  0.412, Loss:  2.933\n",
      "Epoch   0 Batch   81/1077 - Train Accuracy:  0.370, Validation Accuracy:  0.420, Loss:  2.932\n",
      "Epoch   0 Batch   82/1077 - Train Accuracy:  0.420, Validation Accuracy:  0.417, Loss:  2.702\n",
      "Epoch   0 Batch   83/1077 - Train Accuracy:  0.327, Validation Accuracy:  0.413, Loss:  3.063\n",
      "Epoch   0 Batch   84/1077 - Train Accuracy:  0.366, Validation Accuracy:  0.421, Loss:  2.897\n",
      "Epoch   0 Batch   85/1077 - Train Accuracy:  0.377, Validation Accuracy:  0.423, Loss:  2.835\n",
      "Epoch   0 Batch   86/1077 - Train Accuracy:  0.364, Validation Accuracy:  0.419, Loss:  2.925\n",
      "Epoch   0 Batch   87/1077 - Train Accuracy:  0.374, Validation Accuracy:  0.412, Loss:  2.886\n",
      "Epoch   0 Batch   88/1077 - Train Accuracy:  0.367, Validation Accuracy:  0.415, Loss:  2.906\n",
      "Epoch   0 Batch   89/1077 - Train Accuracy:  0.366, Validation Accuracy:  0.423, Loss:  2.883\n",
      "Epoch   0 Batch   90/1077 - Train Accuracy:  0.370, Validation Accuracy:  0.420, Loss:  2.935\n",
      "Epoch   0 Batch   91/1077 - Train Accuracy:  0.413, Validation Accuracy:  0.417, Loss:  2.678\n",
      "Epoch   0 Batch   92/1077 - Train Accuracy:  0.396, Validation Accuracy:  0.421, Loss:  2.811\n",
      "Epoch   0 Batch   93/1077 - Train Accuracy:  0.375, Validation Accuracy:  0.424, Loss:  2.877\n",
      "Epoch   0 Batch   94/1077 - Train Accuracy:  0.392, Validation Accuracy:  0.429, Loss:  2.813\n",
      "Epoch   0 Batch   95/1077 - Train Accuracy:  0.402, Validation Accuracy:  0.427, Loss:  2.744\n",
      "Epoch   0 Batch   96/1077 - Train Accuracy:  0.383, Validation Accuracy:  0.433, Loss:  2.826\n",
      "Epoch   0 Batch   97/1077 - Train Accuracy:  0.397, Validation Accuracy:  0.426, Loss:  2.797\n",
      "Epoch   0 Batch   98/1077 - Train Accuracy:  0.422, Validation Accuracy:  0.432, Loss:  2.681\n",
      "Epoch   0 Batch   99/1077 - Train Accuracy:  0.374, Validation Accuracy:  0.433, Loss:  2.883\n",
      "Epoch   0 Batch  100/1077 - Train Accuracy:  0.371, Validation Accuracy:  0.430, Loss:  2.865\n",
      "Epoch   0 Batch  101/1077 - Train Accuracy:  0.386, Validation Accuracy:  0.436, Loss:  2.812\n",
      "Epoch   0 Batch  102/1077 - Train Accuracy:  0.402, Validation Accuracy:  0.439, Loss:  2.748\n",
      "Epoch   0 Batch  103/1077 - Train Accuracy:  0.339, Validation Accuracy:  0.428, Loss:  2.969\n",
      "Epoch   0 Batch  104/1077 - Train Accuracy:  0.329, Validation Accuracy:  0.428, Loss:  3.004\n",
      "Epoch   0 Batch  105/1077 - Train Accuracy:  0.381, Validation Accuracy:  0.429, Loss:  2.763\n",
      "Epoch   0 Batch  106/1077 - Train Accuracy:  0.372, Validation Accuracy:  0.433, Loss:  2.884\n",
      "Epoch   0 Batch  107/1077 - Train Accuracy:  0.407, Validation Accuracy:  0.428, Loss:  2.685\n",
      "Epoch   0 Batch  108/1077 - Train Accuracy:  0.431, Validation Accuracy:  0.428, Loss:  2.566\n",
      "Epoch   0 Batch  109/1077 - Train Accuracy:  0.391, Validation Accuracy:  0.436, Loss:  2.744\n",
      "Epoch   0 Batch  110/1077 - Train Accuracy:  0.395, Validation Accuracy:  0.434, Loss:  2.731\n",
      "Epoch   0 Batch  111/1077 - Train Accuracy:  0.376, Validation Accuracy:  0.433, Loss:  2.802\n",
      "Epoch   0 Batch  112/1077 - Train Accuracy:  0.370, Validation Accuracy:  0.417, Loss:  2.759\n",
      "Epoch   0 Batch  113/1077 - Train Accuracy:  0.375, Validation Accuracy:  0.436, Loss:  2.809\n",
      "Epoch   0 Batch  114/1077 - Train Accuracy:  0.418, Validation Accuracy:  0.439, Loss:  2.629\n",
      "Epoch   0 Batch  115/1077 - Train Accuracy:  0.386, Validation Accuracy:  0.438, Loss:  2.783\n",
      "Epoch   0 Batch  116/1077 - Train Accuracy:  0.357, Validation Accuracy:  0.434, Loss:  2.814\n",
      "Epoch   0 Batch  117/1077 - Train Accuracy:  0.341, Validation Accuracy:  0.415, Loss:  2.792\n",
      "Epoch   0 Batch  118/1077 - Train Accuracy:  0.344, Validation Accuracy:  0.434, Loss:  2.919\n",
      "Epoch   0 Batch  119/1077 - Train Accuracy:  0.396, Validation Accuracy:  0.446, Loss:  2.734\n",
      "Epoch   0 Batch  120/1077 - Train Accuracy:  0.389, Validation Accuracy:  0.449, Loss:  2.755\n",
      "Epoch   0 Batch  121/1077 - Train Accuracy:  0.385, Validation Accuracy:  0.435, Loss:  2.700\n",
      "Epoch   0 Batch  122/1077 - Train Accuracy:  0.379, Validation Accuracy:  0.427, Loss:  2.700\n",
      "Epoch   0 Batch  123/1077 - Train Accuracy:  0.393, Validation Accuracy:  0.434, Loss:  2.649\n",
      "Epoch   0 Batch  124/1077 - Train Accuracy:  0.391, Validation Accuracy:  0.442, Loss:  2.701\n",
      "Epoch   0 Batch  125/1077 - Train Accuracy:  0.406, Validation Accuracy:  0.438, Loss:  2.642\n",
      "Epoch   0 Batch  126/1077 - Train Accuracy:  0.409, Validation Accuracy:  0.435, Loss:  2.579\n",
      "Epoch   0 Batch  127/1077 - Train Accuracy:  0.389, Validation Accuracy:  0.435, Loss:  2.664\n",
      "Epoch   0 Batch  128/1077 - Train Accuracy:  0.432, Validation Accuracy:  0.445, Loss:  2.533\n",
      "Epoch   0 Batch  129/1077 - Train Accuracy:  0.410, Validation Accuracy:  0.447, Loss:  2.648\n",
      "Epoch   0 Batch  130/1077 - Train Accuracy:  0.406, Validation Accuracy:  0.430, Loss:  2.544\n",
      "Epoch   0 Batch  131/1077 - Train Accuracy:  0.366, Validation Accuracy:  0.414, Loss:  2.685\n",
      "Epoch   0 Batch  132/1077 - Train Accuracy:  0.375, Validation Accuracy:  0.440, Loss:  2.710\n",
      "Epoch   0 Batch  133/1077 - Train Accuracy:  0.371, Validation Accuracy:  0.446, Loss:  2.714\n",
      "Epoch   0 Batch  134/1077 - Train Accuracy:  0.418, Validation Accuracy:  0.433, Loss:  2.577\n",
      "Epoch   0 Batch  135/1077 - Train Accuracy:  0.356, Validation Accuracy:  0.424, Loss:  2.689\n",
      "Epoch   0 Batch  136/1077 - Train Accuracy:  0.400, Validation Accuracy:  0.440, Loss:  2.598\n",
      "Epoch   0 Batch  137/1077 - Train Accuracy:  0.429, Validation Accuracy:  0.445, Loss:  2.448\n",
      "Epoch   0 Batch  138/1077 - Train Accuracy:  0.376, Validation Accuracy:  0.434, Loss:  2.595\n",
      "Epoch   0 Batch  139/1077 - Train Accuracy:  0.384, Validation Accuracy:  0.433, Loss:  2.553\n",
      "Epoch   0 Batch  140/1077 - Train Accuracy:  0.365, Validation Accuracy:  0.450, Loss:  2.744\n",
      "Epoch   0 Batch  141/1077 - Train Accuracy:  0.386, Validation Accuracy:  0.441, Loss:  2.634\n",
      "Epoch   0 Batch  142/1077 - Train Accuracy:  0.415, Validation Accuracy:  0.439, Loss:  2.428\n",
      "Epoch   0 Batch  143/1077 - Train Accuracy:  0.398, Validation Accuracy:  0.446, Loss:  2.542\n",
      "Epoch   0 Batch  144/1077 - Train Accuracy:  0.369, Validation Accuracy:  0.449, Loss:  2.695\n",
      "Epoch   0 Batch  145/1077 - Train Accuracy:  0.386, Validation Accuracy:  0.434, Loss:  2.515\n",
      "Epoch   0 Batch  146/1077 - Train Accuracy:  0.406, Validation Accuracy:  0.435, Loss:  2.465\n",
      "Epoch   0 Batch  147/1077 - Train Accuracy:  0.382, Validation Accuracy:  0.452, Loss:  2.591\n",
      "Epoch   0 Batch  148/1077 - Train Accuracy:  0.407, Validation Accuracy:  0.440, Loss:  2.528\n",
      "Epoch   0 Batch  149/1077 - Train Accuracy:  0.384, Validation Accuracy:  0.432, Loss:  2.555\n",
      "Epoch   0 Batch  150/1077 - Train Accuracy:  0.439, Validation Accuracy:  0.451, Loss:  2.425\n",
      "Epoch   0 Batch  151/1077 - Train Accuracy:  0.442, Validation Accuracy:  0.457, Loss:  2.417\n",
      "Epoch   0 Batch  152/1077 - Train Accuracy:  0.398, Validation Accuracy:  0.432, Loss:  2.513\n",
      "Epoch   0 Batch  153/1077 - Train Accuracy:  0.368, Validation Accuracy:  0.433, Loss:  2.577\n",
      "Epoch   0 Batch  154/1077 - Train Accuracy:  0.365, Validation Accuracy:  0.455, Loss:  2.674\n",
      "Epoch   0 Batch  155/1077 - Train Accuracy:  0.407, Validation Accuracy:  0.450, Loss:  2.507\n",
      "Epoch   0 Batch  156/1077 - Train Accuracy:  0.375, Validation Accuracy:  0.429, Loss:  2.517\n",
      "Epoch   0 Batch  157/1077 - Train Accuracy:  0.383, Validation Accuracy:  0.440, Loss:  2.521\n",
      "Epoch   0 Batch  158/1077 - Train Accuracy:  0.441, Validation Accuracy:  0.447, Loss:  2.423\n",
      "Epoch   0 Batch  159/1077 - Train Accuracy:  0.411, Validation Accuracy:  0.442, Loss:  2.382\n",
      "Epoch   0 Batch  160/1077 - Train Accuracy:  0.377, Validation Accuracy:  0.431, Loss:  2.459\n",
      "Epoch   0 Batch  161/1077 - Train Accuracy:  0.382, Validation Accuracy:  0.431, Loss:  2.505\n",
      "Epoch   0 Batch  162/1077 - Train Accuracy:  0.385, Validation Accuracy:  0.436, Loss:  2.474\n",
      "Epoch   0 Batch  163/1077 - Train Accuracy:  0.368, Validation Accuracy:  0.446, Loss:  2.572\n",
      "Epoch   0 Batch  164/1077 - Train Accuracy:  0.373, Validation Accuracy:  0.439, Loss:  2.523\n",
      "Epoch   0 Batch  165/1077 - Train Accuracy:  0.364, Validation Accuracy:  0.435, Loss:  2.470\n",
      "Epoch   0 Batch  166/1077 - Train Accuracy:  0.428, Validation Accuracy:  0.446, Loss:  2.368\n",
      "Epoch   0 Batch  167/1077 - Train Accuracy:  0.373, Validation Accuracy:  0.442, Loss:  2.491\n",
      "Epoch   0 Batch  168/1077 - Train Accuracy:  0.340, Validation Accuracy:  0.422, Loss:  2.538\n",
      "Epoch   0 Batch  169/1077 - Train Accuracy:  0.431, Validation Accuracy:  0.430, Loss:  2.281\n",
      "Epoch   0 Batch  170/1077 - Train Accuracy:  0.368, Validation Accuracy:  0.447, Loss:  2.518\n",
      "Epoch   0 Batch  171/1077 - Train Accuracy:  0.436, Validation Accuracy:  0.438, Loss:  2.274\n",
      "Epoch   0 Batch  172/1077 - Train Accuracy:  0.405, Validation Accuracy:  0.429, Loss:  2.316\n",
      "Epoch   0 Batch  173/1077 - Train Accuracy:  0.364, Validation Accuracy:  0.439, Loss:  2.600\n",
      "Epoch   0 Batch  174/1077 - Train Accuracy:  0.418, Validation Accuracy:  0.455, Loss:  2.388\n",
      "Epoch   0 Batch  175/1077 - Train Accuracy:  0.407, Validation Accuracy:  0.444, Loss:  2.345\n",
      "Epoch   0 Batch  176/1077 - Train Accuracy:  0.360, Validation Accuracy:  0.428, Loss:  2.411\n",
      "Epoch   0 Batch  177/1077 - Train Accuracy:  0.352, Validation Accuracy:  0.439, Loss:  2.523\n",
      "Epoch   0 Batch  178/1077 - Train Accuracy:  0.398, Validation Accuracy:  0.446, Loss:  2.361\n",
      "Epoch   0 Batch  179/1077 - Train Accuracy:  0.359, Validation Accuracy:  0.434, Loss:  2.458\n",
      "Epoch   0 Batch  180/1077 - Train Accuracy:  0.389, Validation Accuracy:  0.450, Loss:  2.370\n",
      "Epoch   0 Batch  181/1077 - Train Accuracy:  0.417, Validation Accuracy:  0.465, Loss:  2.353\n",
      "Epoch   0 Batch  182/1077 - Train Accuracy:  0.419, Validation Accuracy:  0.453, Loss:  2.318\n",
      "Epoch   0 Batch  183/1077 - Train Accuracy:  0.382, Validation Accuracy:  0.445, Loss:  2.441\n",
      "Epoch   0 Batch  184/1077 - Train Accuracy:  0.379, Validation Accuracy:  0.436, Loss:  2.340\n",
      "Epoch   0 Batch  185/1077 - Train Accuracy:  0.406, Validation Accuracy:  0.437, Loss:  2.352\n",
      "Epoch   0 Batch  186/1077 - Train Accuracy:  0.377, Validation Accuracy:  0.438, Loss:  2.402\n",
      "Epoch   0 Batch  187/1077 - Train Accuracy:  0.370, Validation Accuracy:  0.442, Loss:  2.383\n",
      "Epoch   0 Batch  188/1077 - Train Accuracy:  0.407, Validation Accuracy:  0.452, Loss:  2.332\n",
      "Epoch   0 Batch  189/1077 - Train Accuracy:  0.401, Validation Accuracy:  0.466, Loss:  2.406\n",
      "Epoch   0 Batch  190/1077 - Train Accuracy:  0.392, Validation Accuracy:  0.452, Loss:  2.372\n",
      "Epoch   0 Batch  191/1077 - Train Accuracy:  0.453, Validation Accuracy:  0.449, Loss:  2.145\n",
      "Epoch   0 Batch  192/1077 - Train Accuracy:  0.416, Validation Accuracy:  0.447, Loss:  2.340\n",
      "Epoch   0 Batch  193/1077 - Train Accuracy:  0.403, Validation Accuracy:  0.441, Loss:  2.237\n",
      "Epoch   0 Batch  194/1077 - Train Accuracy:  0.424, Validation Accuracy:  0.444, Loss:  2.196\n",
      "Epoch   0 Batch  195/1077 - Train Accuracy:  0.394, Validation Accuracy:  0.461, Loss:  2.351\n",
      "Epoch   0 Batch  196/1077 - Train Accuracy:  0.413, Validation Accuracy:  0.462, Loss:  2.253\n",
      "Epoch   0 Batch  197/1077 - Train Accuracy:  0.424, Validation Accuracy:  0.454, Loss:  2.230\n",
      "Epoch   0 Batch  198/1077 - Train Accuracy:  0.440, Validation Accuracy:  0.450, Loss:  2.151\n",
      "Epoch   0 Batch  199/1077 - Train Accuracy:  0.400, Validation Accuracy:  0.449, Loss:  2.310\n",
      "Epoch   0 Batch  200/1077 - Train Accuracy:  0.393, Validation Accuracy:  0.434, Loss:  2.303\n",
      "Epoch   0 Batch  201/1077 - Train Accuracy:  0.396, Validation Accuracy:  0.435, Loss:  2.181\n",
      "Epoch   0 Batch  202/1077 - Train Accuracy:  0.414, Validation Accuracy:  0.457, Loss:  2.304\n",
      "Epoch   0 Batch  203/1077 - Train Accuracy:  0.413, Validation Accuracy:  0.461, Loss:  2.223\n",
      "Epoch   0 Batch  204/1077 - Train Accuracy:  0.388, Validation Accuracy:  0.453, Loss:  2.253\n",
      "Epoch   0 Batch  205/1077 - Train Accuracy:  0.406, Validation Accuracy:  0.456, Loss:  2.290\n",
      "Epoch   0 Batch  206/1077 - Train Accuracy:  0.407, Validation Accuracy:  0.457, Loss:  2.291\n",
      "Epoch   0 Batch  207/1077 - Train Accuracy:  0.366, Validation Accuracy:  0.446, Loss:  2.324\n",
      "Epoch   0 Batch  208/1077 - Train Accuracy:  0.398, Validation Accuracy:  0.429, Loss:  2.194\n",
      "Epoch   0 Batch  209/1077 - Train Accuracy:  0.426, Validation Accuracy:  0.449, Loss:  2.127\n",
      "Epoch   0 Batch  210/1077 - Train Accuracy:  0.442, Validation Accuracy:  0.455, Loss:  2.241\n",
      "Epoch   0 Batch  211/1077 - Train Accuracy:  0.401, Validation Accuracy:  0.458, Loss:  2.236\n",
      "Epoch   0 Batch  212/1077 - Train Accuracy:  0.442, Validation Accuracy:  0.459, Loss:  2.126\n",
      "Epoch   0 Batch  213/1077 - Train Accuracy:  0.427, Validation Accuracy:  0.459, Loss:  2.187\n",
      "Epoch   0 Batch  214/1077 - Train Accuracy:  0.415, Validation Accuracy:  0.459, Loss:  2.241\n",
      "Epoch   0 Batch  215/1077 - Train Accuracy:  0.372, Validation Accuracy:  0.446, Loss:  2.236\n",
      "Epoch   0 Batch  216/1077 - Train Accuracy:  0.397, Validation Accuracy:  0.445, Loss:  2.249\n",
      "Epoch   0 Batch  217/1077 - Train Accuracy:  0.435, Validation Accuracy:  0.452, Loss:  2.151\n",
      "Epoch   0 Batch  218/1077 - Train Accuracy:  0.393, Validation Accuracy:  0.451, Loss:  2.347\n",
      "Epoch   0 Batch  219/1077 - Train Accuracy:  0.407, Validation Accuracy:  0.451, Loss:  2.246\n",
      "Epoch   0 Batch  220/1077 - Train Accuracy:  0.389, Validation Accuracy:  0.459, Loss:  2.264\n",
      "Epoch   0 Batch  221/1077 - Train Accuracy:  0.418, Validation Accuracy:  0.471, Loss:  2.230\n",
      "Epoch   0 Batch  222/1077 - Train Accuracy:  0.358, Validation Accuracy:  0.447, Loss:  2.336\n",
      "Epoch   0 Batch  223/1077 - Train Accuracy:  0.411, Validation Accuracy:  0.450, Loss:  2.089\n",
      "Epoch   0 Batch  224/1077 - Train Accuracy:  0.422, Validation Accuracy:  0.453, Loss:  2.227\n",
      "Epoch   0 Batch  225/1077 - Train Accuracy:  0.411, Validation Accuracy:  0.454, Loss:  2.225\n",
      "Epoch   0 Batch  226/1077 - Train Accuracy:  0.402, Validation Accuracy:  0.441, Loss:  2.170\n",
      "Epoch   0 Batch  227/1077 - Train Accuracy:  0.393, Validation Accuracy:  0.456, Loss:  2.252\n",
      "Epoch   0 Batch  228/1077 - Train Accuracy:  0.445, Validation Accuracy:  0.479, Loss:  2.153\n",
      "Epoch   0 Batch  229/1077 - Train Accuracy:  0.423, Validation Accuracy:  0.456, Loss:  2.179\n",
      "Epoch   0 Batch  230/1077 - Train Accuracy:  0.429, Validation Accuracy:  0.441, Loss:  2.036\n",
      "Epoch   0 Batch  231/1077 - Train Accuracy:  0.406, Validation Accuracy:  0.457, Loss:  2.167\n",
      "Epoch   0 Batch  232/1077 - Train Accuracy:  0.393, Validation Accuracy:  0.467, Loss:  2.270\n",
      "Epoch   0 Batch  233/1077 - Train Accuracy:  0.407, Validation Accuracy:  0.458, Loss:  2.207\n",
      "Epoch   0 Batch  234/1077 - Train Accuracy:  0.438, Validation Accuracy:  0.458, Loss:  2.060\n",
      "Epoch   0 Batch  235/1077 - Train Accuracy:  0.434, Validation Accuracy:  0.464, Loss:  2.038\n",
      "Epoch   0 Batch  236/1077 - Train Accuracy:  0.421, Validation Accuracy:  0.468, Loss:  2.190\n",
      "Epoch   0 Batch  237/1077 - Train Accuracy:  0.440, Validation Accuracy:  0.453, Loss:  2.037\n",
      "Epoch   0 Batch  238/1077 - Train Accuracy:  0.399, Validation Accuracy:  0.445, Loss:  2.175\n",
      "Epoch   0 Batch  239/1077 - Train Accuracy:  0.427, Validation Accuracy:  0.454, Loss:  2.056\n",
      "Epoch   0 Batch  240/1077 - Train Accuracy:  0.425, Validation Accuracy:  0.462, Loss:  2.099\n",
      "Epoch   0 Batch  241/1077 - Train Accuracy:  0.413, Validation Accuracy:  0.460, Loss:  2.067\n",
      "Epoch   0 Batch  242/1077 - Train Accuracy:  0.401, Validation Accuracy:  0.462, Loss:  2.168\n",
      "Epoch   0 Batch  243/1077 - Train Accuracy:  0.383, Validation Accuracy:  0.462, Loss:  2.210\n",
      "Epoch   0 Batch  244/1077 - Train Accuracy:  0.462, Validation Accuracy:  0.461, Loss:  2.027\n",
      "Epoch   0 Batch  245/1077 - Train Accuracy:  0.422, Validation Accuracy:  0.452, Loss:  2.034\n",
      "Epoch   0 Batch  246/1077 - Train Accuracy:  0.387, Validation Accuracy:  0.454, Loss:  2.126\n",
      "Epoch   0 Batch  247/1077 - Train Accuracy:  0.445, Validation Accuracy:  0.464, Loss:  1.985\n",
      "Epoch   0 Batch  248/1077 - Train Accuracy:  0.430, Validation Accuracy:  0.463, Loss:  2.083\n",
      "Epoch   0 Batch  249/1077 - Train Accuracy:  0.424, Validation Accuracy:  0.458, Loss:  2.119\n",
      "Epoch   0 Batch  250/1077 - Train Accuracy:  0.446, Validation Accuracy:  0.458, Loss:  1.969\n",
      "Epoch   0 Batch  251/1077 - Train Accuracy:  0.429, Validation Accuracy:  0.464, Loss:  2.100\n",
      "Epoch   0 Batch  252/1077 - Train Accuracy:  0.416, Validation Accuracy:  0.461, Loss:  2.049\n",
      "Epoch   0 Batch  253/1077 - Train Accuracy:  0.447, Validation Accuracy:  0.450, Loss:  1.971\n",
      "Epoch   0 Batch  254/1077 - Train Accuracy:  0.424, Validation Accuracy:  0.463, Loss:  2.121\n",
      "Epoch   0 Batch  255/1077 - Train Accuracy:  0.424, Validation Accuracy:  0.467, Loss:  2.114\n",
      "Epoch   0 Batch  256/1077 - Train Accuracy:  0.407, Validation Accuracy:  0.450, Loss:  2.081\n",
      "Epoch   0 Batch  257/1077 - Train Accuracy:  0.418, Validation Accuracy:  0.453, Loss:  1.970\n",
      "Epoch   0 Batch  258/1077 - Train Accuracy:  0.429, Validation Accuracy:  0.466, Loss:  1.954\n",
      "Epoch   0 Batch  259/1077 - Train Accuracy:  0.409, Validation Accuracy:  0.465, Loss:  2.070\n",
      "Epoch   0 Batch  260/1077 - Train Accuracy:  0.435, Validation Accuracy:  0.458, Loss:  1.992\n",
      "Epoch   0 Batch  261/1077 - Train Accuracy:  0.425, Validation Accuracy:  0.454, Loss:  2.017\n",
      "Epoch   0 Batch  262/1077 - Train Accuracy:  0.410, Validation Accuracy:  0.458, Loss:  2.079\n",
      "Epoch   0 Batch  263/1077 - Train Accuracy:  0.436, Validation Accuracy:  0.462, Loss:  2.057\n",
      "Epoch   0 Batch  264/1077 - Train Accuracy:  0.407, Validation Accuracy:  0.463, Loss:  2.116\n",
      "Epoch   0 Batch  265/1077 - Train Accuracy:  0.416, Validation Accuracy:  0.460, Loss:  2.006\n",
      "Epoch   0 Batch  266/1077 - Train Accuracy:  0.427, Validation Accuracy:  0.461, Loss:  1.950\n",
      "Epoch   0 Batch  267/1077 - Train Accuracy:  0.428, Validation Accuracy:  0.469, Loss:  1.945\n",
      "Epoch   0 Batch  268/1077 - Train Accuracy:  0.421, Validation Accuracy:  0.466, Loss:  2.033\n",
      "Epoch   0 Batch  269/1077 - Train Accuracy:  0.373, Validation Accuracy:  0.462, Loss:  2.163\n",
      "Epoch   0 Batch  270/1077 - Train Accuracy:  0.377, Validation Accuracy:  0.461, Loss:  2.160\n",
      "Epoch   0 Batch  271/1077 - Train Accuracy:  0.414, Validation Accuracy:  0.468, Loss:  2.034\n",
      "Epoch   0 Batch  272/1077 - Train Accuracy:  0.435, Validation Accuracy:  0.465, Loss:  1.975\n",
      "Epoch   0 Batch  273/1077 - Train Accuracy:  0.432, Validation Accuracy:  0.457, Loss:  1.939\n",
      "Epoch   0 Batch  274/1077 - Train Accuracy:  0.419, Validation Accuracy:  0.464, Loss:  1.998\n",
      "Epoch   0 Batch  275/1077 - Train Accuracy:  0.432, Validation Accuracy:  0.465, Loss:  1.906\n",
      "Epoch   0 Batch  276/1077 - Train Accuracy:  0.393, Validation Accuracy:  0.458, Loss:  2.060\n",
      "Epoch   0 Batch  277/1077 - Train Accuracy:  0.427, Validation Accuracy:  0.452, Loss:  1.941\n",
      "Epoch   0 Batch  278/1077 - Train Accuracy:  0.396, Validation Accuracy:  0.461, Loss:  2.071\n",
      "Epoch   0 Batch  279/1077 - Train Accuracy:  0.393, Validation Accuracy:  0.459, Loss:  2.145\n",
      "Epoch   0 Batch  280/1077 - Train Accuracy:  0.388, Validation Accuracy:  0.456, Loss:  2.021\n",
      "Epoch   0 Batch  281/1077 - Train Accuracy:  0.413, Validation Accuracy:  0.456, Loss:  2.010\n",
      "Epoch   0 Batch  282/1077 - Train Accuracy:  0.388, Validation Accuracy:  0.455, Loss:  2.057\n",
      "Epoch   0 Batch  283/1077 - Train Accuracy:  0.422, Validation Accuracy:  0.465, Loss:  1.997\n",
      "Epoch   0 Batch  284/1077 - Train Accuracy:  0.398, Validation Accuracy:  0.460, Loss:  2.080\n",
      "Epoch   0 Batch  285/1077 - Train Accuracy:  0.441, Validation Accuracy:  0.456, Loss:  1.869\n",
      "Epoch   0 Batch  286/1077 - Train Accuracy:  0.432, Validation Accuracy:  0.453, Loss:  1.844\n",
      "Epoch   0 Batch  287/1077 - Train Accuracy:  0.407, Validation Accuracy:  0.457, Loss:  1.970\n",
      "Epoch   0 Batch  288/1077 - Train Accuracy:  0.362, Validation Accuracy:  0.453, Loss:  2.071\n",
      "Epoch   0 Batch  289/1077 - Train Accuracy:  0.415, Validation Accuracy:  0.455, Loss:  1.972\n",
      "Epoch   0 Batch  290/1077 - Train Accuracy:  0.407, Validation Accuracy:  0.455, Loss:  1.995\n",
      "Epoch   0 Batch  291/1077 - Train Accuracy:  0.439, Validation Accuracy:  0.461, Loss:  1.904\n",
      "Epoch   0 Batch  292/1077 - Train Accuracy:  0.435, Validation Accuracy:  0.458, Loss:  1.893\n",
      "Epoch   0 Batch  293/1077 - Train Accuracy:  0.388, Validation Accuracy:  0.462, Loss:  2.043\n",
      "Epoch   0 Batch  294/1077 - Train Accuracy:  0.460, Validation Accuracy:  0.465, Loss:  1.796\n",
      "Epoch   0 Batch  295/1077 - Train Accuracy:  0.393, Validation Accuracy:  0.464, Loss:  2.066\n",
      "Epoch   0 Batch  296/1077 - Train Accuracy:  0.431, Validation Accuracy:  0.461, Loss:  1.864\n",
      "Epoch   0 Batch  297/1077 - Train Accuracy:  0.393, Validation Accuracy:  0.455, Loss:  2.031\n",
      "Epoch   0 Batch  298/1077 - Train Accuracy:  0.412, Validation Accuracy:  0.456, Loss:  1.987\n",
      "Epoch   0 Batch  299/1077 - Train Accuracy:  0.421, Validation Accuracy:  0.457, Loss:  1.881\n",
      "Epoch   0 Batch  300/1077 - Train Accuracy:  0.389, Validation Accuracy:  0.456, Loss:  2.062\n",
      "Epoch   0 Batch  301/1077 - Train Accuracy:  0.395, Validation Accuracy:  0.462, Loss:  1.945\n",
      "Epoch   0 Batch  302/1077 - Train Accuracy:  0.427, Validation Accuracy:  0.464, Loss:  1.889\n",
      "Epoch   0 Batch  303/1077 - Train Accuracy:  0.410, Validation Accuracy:  0.467, Loss:  1.989\n",
      "Epoch   0 Batch  304/1077 - Train Accuracy:  0.443, Validation Accuracy:  0.471, Loss:  1.780\n",
      "Epoch   0 Batch  305/1077 - Train Accuracy:  0.426, Validation Accuracy:  0.469, Loss:  1.923\n",
      "Epoch   0 Batch  306/1077 - Train Accuracy:  0.425, Validation Accuracy:  0.460, Loss:  1.862\n",
      "Epoch   0 Batch  307/1077 - Train Accuracy:  0.424, Validation Accuracy:  0.461, Loss:  1.902\n",
      "Epoch   0 Batch  308/1077 - Train Accuracy:  0.388, Validation Accuracy:  0.447, Loss:  2.020\n",
      "Epoch   0 Batch  309/1077 - Train Accuracy:  0.420, Validation Accuracy:  0.454, Loss:  1.845\n",
      "Epoch   0 Batch  310/1077 - Train Accuracy:  0.389, Validation Accuracy:  0.455, Loss:  1.938\n",
      "Epoch   0 Batch  311/1077 - Train Accuracy:  0.457, Validation Accuracy:  0.468, Loss:  1.819\n",
      "Epoch   0 Batch  312/1077 - Train Accuracy:  0.425, Validation Accuracy:  0.464, Loss:  1.943\n",
      "Epoch   0 Batch  313/1077 - Train Accuracy:  0.414, Validation Accuracy:  0.473, Loss:  1.910\n",
      "Epoch   0 Batch  314/1077 - Train Accuracy:  0.430, Validation Accuracy:  0.464, Loss:  1.904\n",
      "Epoch   0 Batch  315/1077 - Train Accuracy:  0.409, Validation Accuracy:  0.452, Loss:  1.878\n",
      "Epoch   0 Batch  316/1077 - Train Accuracy:  0.426, Validation Accuracy:  0.466, Loss:  1.820\n",
      "Epoch   0 Batch  317/1077 - Train Accuracy:  0.382, Validation Accuracy:  0.464, Loss:  2.049\n",
      "Epoch   0 Batch  318/1077 - Train Accuracy:  0.398, Validation Accuracy:  0.449, Loss:  1.936\n",
      "Epoch   0 Batch  319/1077 - Train Accuracy:  0.396, Validation Accuracy:  0.466, Loss:  1.919\n",
      "Epoch   0 Batch  320/1077 - Train Accuracy:  0.441, Validation Accuracy:  0.476, Loss:  1.926\n",
      "Epoch   0 Batch  321/1077 - Train Accuracy:  0.416, Validation Accuracy:  0.474, Loss:  1.861\n",
      "Epoch   0 Batch  322/1077 - Train Accuracy:  0.424, Validation Accuracy:  0.460, Loss:  1.824\n",
      "Epoch   0 Batch  323/1077 - Train Accuracy:  0.438, Validation Accuracy:  0.456, Loss:  1.774\n",
      "Epoch   0 Batch  324/1077 - Train Accuracy:  0.386, Validation Accuracy:  0.458, Loss:  1.891\n",
      "Epoch   0 Batch  325/1077 - Train Accuracy:  0.447, Validation Accuracy:  0.451, Loss:  1.729\n",
      "Epoch   0 Batch  326/1077 - Train Accuracy:  0.437, Validation Accuracy:  0.457, Loss:  1.738\n",
      "Epoch   0 Batch  327/1077 - Train Accuracy:  0.412, Validation Accuracy:  0.453, Loss:  1.888\n",
      "Epoch   0 Batch  328/1077 - Train Accuracy:  0.423, Validation Accuracy:  0.450, Loss:  1.820\n",
      "Epoch   0 Batch  329/1077 - Train Accuracy:  0.402, Validation Accuracy:  0.460, Loss:  1.908\n",
      "Epoch   0 Batch  330/1077 - Train Accuracy:  0.414, Validation Accuracy:  0.456, Loss:  1.863\n",
      "Epoch   0 Batch  331/1077 - Train Accuracy:  0.400, Validation Accuracy:  0.456, Loss:  1.838\n",
      "Epoch   0 Batch  332/1077 - Train Accuracy:  0.418, Validation Accuracy:  0.441, Loss:  1.718\n",
      "Epoch   0 Batch  333/1077 - Train Accuracy:  0.368, Validation Accuracy:  0.445, Loss:  1.942\n",
      "Epoch   0 Batch  334/1077 - Train Accuracy:  0.400, Validation Accuracy:  0.446, Loss:  1.850\n",
      "Epoch   0 Batch  335/1077 - Train Accuracy:  0.450, Validation Accuracy:  0.446, Loss:  1.667\n",
      "Epoch   0 Batch  336/1077 - Train Accuracy:  0.412, Validation Accuracy:  0.452, Loss:  1.831\n",
      "Epoch   0 Batch  337/1077 - Train Accuracy:  0.387, Validation Accuracy:  0.452, Loss:  1.824\n",
      "Epoch   0 Batch  338/1077 - Train Accuracy:  0.395, Validation Accuracy:  0.450, Loss:  1.809\n",
      "Epoch   0 Batch  339/1077 - Train Accuracy:  0.384, Validation Accuracy:  0.437, Loss:  1.749\n",
      "Epoch   0 Batch  340/1077 - Train Accuracy:  0.372, Validation Accuracy:  0.447, Loss:  1.903\n",
      "Epoch   0 Batch  341/1077 - Train Accuracy:  0.410, Validation Accuracy:  0.445, Loss:  1.832\n",
      "Epoch   0 Batch  342/1077 - Train Accuracy:  0.415, Validation Accuracy:  0.445, Loss:  1.774\n",
      "Epoch   0 Batch  343/1077 - Train Accuracy:  0.377, Validation Accuracy:  0.432, Loss:  1.788\n",
      "Epoch   0 Batch  344/1077 - Train Accuracy:  0.388, Validation Accuracy:  0.444, Loss:  1.828\n",
      "Epoch   0 Batch  345/1077 - Train Accuracy:  0.403, Validation Accuracy:  0.439, Loss:  1.739\n",
      "Epoch   0 Batch  346/1077 - Train Accuracy:  0.388, Validation Accuracy:  0.435, Loss:  1.821\n",
      "Epoch   0 Batch  347/1077 - Train Accuracy:  0.416, Validation Accuracy:  0.430, Loss:  1.754\n",
      "Epoch   0 Batch  348/1077 - Train Accuracy:  0.429, Validation Accuracy:  0.434, Loss:  1.674\n",
      "Epoch   0 Batch  349/1077 - Train Accuracy:  0.385, Validation Accuracy:  0.441, Loss:  1.758\n",
      "Epoch   0 Batch  350/1077 - Train Accuracy:  0.382, Validation Accuracy:  0.434, Loss:  1.867\n",
      "Epoch   0 Batch  351/1077 - Train Accuracy:  0.346, Validation Accuracy:  0.430, Loss:  1.909\n",
      "Epoch   0 Batch  352/1077 - Train Accuracy:  0.368, Validation Accuracy:  0.439, Loss:  1.879\n",
      "Epoch   0 Batch  353/1077 - Train Accuracy:  0.379, Validation Accuracy:  0.442, Loss:  1.876\n",
      "Epoch   0 Batch  354/1077 - Train Accuracy:  0.396, Validation Accuracy:  0.442, Loss:  1.781\n",
      "Epoch   0 Batch  355/1077 - Train Accuracy:  0.405, Validation Accuracy:  0.444, Loss:  1.745\n",
      "Epoch   0 Batch  356/1077 - Train Accuracy:  0.392, Validation Accuracy:  0.434, Loss:  1.749\n",
      "Epoch   0 Batch  357/1077 - Train Accuracy:  0.433, Validation Accuracy:  0.435, Loss:  1.614\n",
      "Epoch   0 Batch  358/1077 - Train Accuracy:  0.361, Validation Accuracy:  0.435, Loss:  1.777\n",
      "Epoch   0 Batch  359/1077 - Train Accuracy:  0.395, Validation Accuracy:  0.436, Loss:  1.704\n",
      "Epoch   0 Batch  360/1077 - Train Accuracy:  0.386, Validation Accuracy:  0.442, Loss:  1.727\n",
      "Epoch   0 Batch  361/1077 - Train Accuracy:  0.373, Validation Accuracy:  0.441, Loss:  1.765\n",
      "Epoch   0 Batch  362/1077 - Train Accuracy:  0.424, Validation Accuracy:  0.437, Loss:  1.698\n",
      "Epoch   0 Batch  363/1077 - Train Accuracy:  0.388, Validation Accuracy:  0.436, Loss:  1.725\n",
      "Epoch   0 Batch  364/1077 - Train Accuracy:  0.374, Validation Accuracy:  0.431, Loss:  1.732\n",
      "Epoch   0 Batch  365/1077 - Train Accuracy:  0.373, Validation Accuracy:  0.436, Loss:  1.734\n",
      "Epoch   0 Batch  366/1077 - Train Accuracy:  0.389, Validation Accuracy:  0.439, Loss:  1.687\n",
      "Epoch   0 Batch  367/1077 - Train Accuracy:  0.422, Validation Accuracy:  0.437, Loss:  1.585\n",
      "Epoch   0 Batch  368/1077 - Train Accuracy:  0.375, Validation Accuracy:  0.438, Loss:  1.702\n",
      "Epoch   0 Batch  369/1077 - Train Accuracy:  0.392, Validation Accuracy:  0.432, Loss:  1.642\n",
      "Epoch   0 Batch  370/1077 - Train Accuracy:  0.387, Validation Accuracy:  0.433, Loss:  1.656\n",
      "Epoch   0 Batch  371/1077 - Train Accuracy:  0.373, Validation Accuracy:  0.441, Loss:  1.651\n",
      "Epoch   0 Batch  372/1077 - Train Accuracy:  0.374, Validation Accuracy:  0.437, Loss:  1.619\n",
      "Epoch   0 Batch  373/1077 - Train Accuracy:  0.419, Validation Accuracy:  0.436, Loss:  1.575\n",
      "Epoch   0 Batch  374/1077 - Train Accuracy:  0.359, Validation Accuracy:  0.430, Loss:  1.756\n",
      "Epoch   0 Batch  375/1077 - Train Accuracy:  0.431, Validation Accuracy:  0.427, Loss:  1.527\n",
      "Epoch   0 Batch  376/1077 - Train Accuracy:  0.414, Validation Accuracy:  0.425, Loss:  1.575\n",
      "Epoch   0 Batch  377/1077 - Train Accuracy:  0.384, Validation Accuracy:  0.426, Loss:  1.666\n",
      "Epoch   0 Batch  378/1077 - Train Accuracy:  0.363, Validation Accuracy:  0.438, Loss:  1.643\n",
      "Epoch   0 Batch  379/1077 - Train Accuracy:  0.382, Validation Accuracy:  0.430, Loss:  1.648\n",
      "Epoch   0 Batch  380/1077 - Train Accuracy:  0.393, Validation Accuracy:  0.426, Loss:  1.604\n",
      "Epoch   0 Batch  381/1077 - Train Accuracy:  0.360, Validation Accuracy:  0.432, Loss:  1.650\n",
      "Epoch   0 Batch  382/1077 - Train Accuracy:  0.396, Validation Accuracy:  0.433, Loss:  1.650\n",
      "Epoch   0 Batch  383/1077 - Train Accuracy:  0.405, Validation Accuracy:  0.432, Loss:  1.533\n",
      "Epoch   0 Batch  384/1077 - Train Accuracy:  0.389, Validation Accuracy:  0.434, Loss:  1.628\n",
      "Epoch   0 Batch  385/1077 - Train Accuracy:  0.396, Validation Accuracy:  0.431, Loss:  1.638\n",
      "Epoch   0 Batch  386/1077 - Train Accuracy:  0.397, Validation Accuracy:  0.429, Loss:  1.543\n",
      "Epoch   0 Batch  387/1077 - Train Accuracy:  0.385, Validation Accuracy:  0.435, Loss:  1.563\n",
      "Epoch   0 Batch  388/1077 - Train Accuracy:  0.391, Validation Accuracy:  0.434, Loss:  1.522\n",
      "Epoch   0 Batch  389/1077 - Train Accuracy:  0.381, Validation Accuracy:  0.431, Loss:  1.558\n",
      "Epoch   0 Batch  390/1077 - Train Accuracy:  0.374, Validation Accuracy:  0.437, Loss:  1.667\n",
      "Epoch   0 Batch  391/1077 - Train Accuracy:  0.416, Validation Accuracy:  0.436, Loss:  1.516\n",
      "Epoch   0 Batch  392/1077 - Train Accuracy:  0.389, Validation Accuracy:  0.435, Loss:  1.577\n",
      "Epoch   0 Batch  393/1077 - Train Accuracy:  0.419, Validation Accuracy:  0.434, Loss:  1.513\n"
     ]
    }
   ],
   "source": [
    "\"\"\"\n",
    "DON'T MODIFY ANYTHING IN THIS CELL\n",
    "\"\"\"\n",
    "import time\n",
    "\n",
    "def get_accuracy(target, logits):\n",
    "    \"\"\"\n",
    "    Calculate accuracy\n",
    "    \"\"\"\n",
    "    max_seq = max(target.shape[1], logits.shape[1])\n",
    "    if max_seq - target.shape[1]:\n",
    "        target = np.pad(\n",
    "            target,\n",
    "            [(0,0),(0,max_seq - target.shape[1])],\n",
    "            'constant')\n",
    "    if max_seq - logits.shape[1]:\n",
    "        logits = np.pad(\n",
    "            logits,\n",
    "            [(0,0),(0,max_seq - logits.shape[1]), (0,0)],\n",
    "            'constant')\n",
    "\n",
    "    return np.mean(np.equal(target, np.argmax(logits, 2)))\n",
    "\n",
    "train_source = source_int_text[batch_size:]\n",
    "train_target = target_int_text[batch_size:]\n",
    "\n",
    "valid_source = helper.pad_sentence_batch(source_int_text[:batch_size])\n",
    "valid_target = helper.pad_sentence_batch(target_int_text[:batch_size])\n",
    "\n",
    "with tf.Session(graph=train_graph) as sess:\n",
    "    sess.run(tf.global_variables_initializer())\n",
    "\n",
    "    for epoch_i in range(epochs):\n",
    "        for batch_i, (source_batch, target_batch) in enumerate(\n",
    "                helper.batch_data(train_source, train_target, batch_size)):\n",
    "            start_time = time.time()\n",
    "            \n",
    "            _, loss = sess.run(\n",
    "                [train_op, cost],\n",
    "                {input_data: source_batch,\n",
    "                 targets: target_batch,\n",
    "                 lr: learning_rate,\n",
    "                 sequence_length: target_batch.shape[1],\n",
    "                 keep_prob: keep_probability})\n",
    "            \n",
    "            batch_train_logits = sess.run(\n",
    "                inference_logits,\n",
    "                {input_data: source_batch, keep_prob: 1.0})\n",
    "            batch_valid_logits = sess.run(\n",
    "                inference_logits,\n",
    "                {input_data: valid_source, keep_prob: 1.0})\n",
    "                \n",
    "            train_acc = get_accuracy(target_batch, batch_train_logits)\n",
    "            valid_acc = get_accuracy(np.array(valid_target), batch_valid_logits)\n",
    "            end_time = time.time()\n",
    "            print('Epoch {:>3} Batch {:>4}/{} - Train Accuracy: {:>6.3f}, Validation Accuracy: {:>6.3f}, Loss: {:>6.3f}'\n",
    "                  .format(epoch_i, batch_i, len(source_int_text) // batch_size, train_acc, valid_acc, loss))\n",
    "\n",
    "    # Save Model\n",
    "    saver = tf.train.Saver()\n",
    "    saver.save(sess, save_path)\n",
    "    print('Model Trained and Saved')"
   ]
  },
  {
   "cell_type": "markdown",
   "metadata": {
    "deletable": true,
    "editable": true
   },
   "source": [
    "### Save Parameters\n",
    "Save the `batch_size` and `save_path` parameters for inference."
   ]
  },
  {
   "cell_type": "code",
   "execution_count": null,
   "metadata": {
    "collapsed": false,
    "deletable": true,
    "editable": true
   },
   "outputs": [],
   "source": [
    "\"\"\"\n",
    "DON'T MODIFY ANYTHING IN THIS CELL\n",
    "\"\"\"\n",
    "# Save parameters for checkpoint\n",
    "helper.save_params(save_path)"
   ]
  },
  {
   "cell_type": "markdown",
   "metadata": {
    "deletable": true,
    "editable": true
   },
   "source": [
    "# Checkpoint"
   ]
  },
  {
   "cell_type": "code",
   "execution_count": null,
   "metadata": {
    "collapsed": false,
    "deletable": true,
    "editable": true
   },
   "outputs": [],
   "source": [
    "\"\"\"\n",
    "DON'T MODIFY ANYTHING IN THIS CELL\n",
    "\"\"\"\n",
    "import tensorflow as tf\n",
    "import numpy as np\n",
    "import helper\n",
    "import problem_unittests as tests\n",
    "\n",
    "_, (source_vocab_to_int, target_vocab_to_int), (source_int_to_vocab, target_int_to_vocab) = helper.load_preprocess()\n",
    "load_path = helper.load_params()"
   ]
  },
  {
   "cell_type": "markdown",
   "metadata": {
    "deletable": true,
    "editable": true
   },
   "source": [
    "## Sentence to Sequence\n",
    "To feed a sentence into the model for translation, you first need to preprocess it.  Implement the function `sentence_to_seq()` to preprocess new sentences.\n",
    "\n",
    "- Convert the sentence to lowercase\n",
    "- Convert words into ids using `vocab_to_int`\n",
    " - Convert words not in the vocabulary, to the `<UNK>` word id."
   ]
  },
  {
   "cell_type": "code",
   "execution_count": null,
   "metadata": {
    "collapsed": false,
    "deletable": true,
    "editable": true
   },
   "outputs": [],
   "source": [
    "def sentence_to_seq(sentence, vocab_to_int):\n",
    "    \"\"\"\n",
    "    Convert a sentence to a sequence of ids\n",
    "    :param sentence: String\n",
    "    :param vocab_to_int: Dictionary to go from the words to an id\n",
    "    :return: List of word ids\n",
    "    \"\"\"\n",
    "    # TODO: Implement Function\n",
    "    return None\n",
    "\n",
    "\n",
    "\"\"\"\n",
    "DON'T MODIFY ANYTHING IN THIS CELL THAT IS BELOW THIS LINE\n",
    "\"\"\"\n",
    "tests.test_sentence_to_seq(sentence_to_seq)"
   ]
  },
  {
   "cell_type": "markdown",
   "metadata": {
    "deletable": true,
    "editable": true
   },
   "source": [
    "## Translate\n",
    "This will translate `translate_sentence` from English to French."
   ]
  },
  {
   "cell_type": "code",
   "execution_count": null,
   "metadata": {
    "collapsed": false,
    "deletable": true,
    "editable": true
   },
   "outputs": [],
   "source": [
    "translate_sentence = 'he saw a old yellow truck .'\n",
    "\n",
    "\n",
    "\"\"\"\n",
    "DON'T MODIFY ANYTHING IN THIS CELL\n",
    "\"\"\"\n",
    "translate_sentence = sentence_to_seq(translate_sentence, source_vocab_to_int)\n",
    "\n",
    "loaded_graph = tf.Graph()\n",
    "with tf.Session(graph=loaded_graph) as sess:\n",
    "    # Load saved model\n",
    "    loader = tf.train.import_meta_graph(load_path + '.meta')\n",
    "    loader.restore(sess, load_path)\n",
    "\n",
    "    input_data = loaded_graph.get_tensor_by_name('input:0')\n",
    "    logits = loaded_graph.get_tensor_by_name('logits:0')\n",
    "    keep_prob = loaded_graph.get_tensor_by_name('keep_prob:0')\n",
    "\n",
    "    translate_logits = sess.run(logits, {input_data: [translate_sentence], keep_prob: 1.0})[0]\n",
    "\n",
    "print('Input')\n",
    "print('  Word Ids:      {}'.format([i for i in translate_sentence]))\n",
    "print('  English Words: {}'.format([source_int_to_vocab[i] for i in translate_sentence]))\n",
    "\n",
    "print('\\nPrediction')\n",
    "print('  Word Ids:      {}'.format([i for i in np.argmax(translate_logits, 1)]))\n",
    "print('  French Words: {}'.format([target_int_to_vocab[i] for i in np.argmax(translate_logits, 1)]))"
   ]
  },
  {
   "cell_type": "markdown",
   "metadata": {
    "deletable": true,
    "editable": true
   },
   "source": [
    "## Imperfect Translation\n",
    "You might notice that some sentences translate better than others.  Since the dataset you're using only has a vocabulary of 227 English words of the thousands that you use, you're only going to see good results using these words.  For this project, you don't need a perfect translation. However, if you want to create a better translation model, you'll need better data.\n",
    "\n",
    "You can train on the [WMT10 French-English corpus](http://www.statmt.org/wmt10/training-giga-fren.tar).  This dataset has more vocabulary and richer in topics discussed.  However, this will take you days to train, so make sure you've a GPU and the neural network is performing well on dataset we provided.  Just make sure you play with the WMT10 corpus after you've submitted this project.\n",
    "## Submitting This Project\n",
    "When submitting this project, make sure to run all the cells before saving the notebook. Save the notebook file as \"dlnd_language_translation.ipynb\" and save it as a HTML file under \"File\" -> \"Download as\". Include the \"helper.py\" and \"problem_unittests.py\" files in your submission."
   ]
  }
 ],
 "metadata": {
  "kernelspec": {
   "display_name": "Python [conda env:dlnd]",
   "language": "python",
   "name": "conda-env-dlnd-py"
  },
  "language_info": {
   "codemirror_mode": {
    "name": "ipython",
    "version": 3
   },
   "file_extension": ".py",
   "mimetype": "text/x-python",
   "name": "python",
   "nbconvert_exporter": "python",
   "pygments_lexer": "ipython3",
   "version": "3.6.0"
  }
 },
 "nbformat": 4,
 "nbformat_minor": 0
}
