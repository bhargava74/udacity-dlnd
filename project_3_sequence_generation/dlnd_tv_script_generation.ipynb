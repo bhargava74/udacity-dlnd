{
 "cells": [
  {
   "cell_type": "markdown",
   "metadata": {
    "deletable": true,
    "editable": true
   },
   "source": [
    "# TV Script Generation\n",
    "In this project, you'll generate your own [Simpsons](https://en.wikipedia.org/wiki/The_Simpsons) TV scripts using RNNs.  You'll be using part of the [Simpsons dataset](https://www.kaggle.com/wcukierski/the-simpsons-by-the-data) of scripts from 27 seasons.  The Neural Network you'll build will generate a new TV script for a scene at [Moe's Tavern](https://simpsonswiki.com/wiki/Moe's_Tavern).\n",
    "## Get the Data\n",
    "The data is already provided for you.  You'll be using a subset of the original dataset.  It consists of only the scenes in Moe's Tavern.  This doesn't include other versions of the tavern, like \"Moe's Cavern\", \"Flaming Moe's\", \"Uncle Moe's Family Feed-Bag\", etc.."
   ]
  },
  {
   "cell_type": "code",
   "execution_count": 1,
   "metadata": {
    "collapsed": false,
    "deletable": true,
    "editable": true
   },
   "outputs": [],
   "source": [
    "\"\"\"\n",
    "DON'T MODIFY ANYTHING IN THIS CELL\n",
    "\"\"\"\n",
    "import helper\n",
    "\n",
    "data_dir = './data/simpsons/moes_tavern_lines.txt'\n",
    "text = helper.load_data(data_dir)\n",
    "# Ignore notice, since we don't use it for analysing the data\n",
    "text = text[81:]"
   ]
  },
  {
   "cell_type": "markdown",
   "metadata": {
    "deletable": true,
    "editable": true
   },
   "source": [
    "## Explore the Data\n",
    "Play around with `view_sentence_range` to view different parts of the data."
   ]
  },
  {
   "cell_type": "code",
   "execution_count": 2,
   "metadata": {
    "collapsed": false,
    "deletable": true,
    "editable": true
   },
   "outputs": [
    {
     "name": "stdout",
     "output_type": "stream",
     "text": [
      "Dataset Stats\n",
      "Roughly the number of unique words: 11492\n",
      "Number of scenes: 262\n",
      "Average number of sentences in each scene: 15.248091603053435\n",
      "Number of lines: 4257\n",
      "Average number of words in each line: 11.50434578341555\n",
      "\n",
      "The sentences 0 to 10:\n",
      "Moe_Szyslak: (INTO PHONE) Moe's Tavern. Where the elite meet to drink.\n",
      "Bart_Simpson: Eh, yeah, hello, is Mike there? Last name, Rotch.\n",
      "Moe_Szyslak: (INTO PHONE) Hold on, I'll check. (TO BARFLIES) Mike Rotch. Mike Rotch. Hey, has anybody seen Mike Rotch, lately?\n",
      "Moe_Szyslak: (INTO PHONE) Listen you little puke. One of these days I'm gonna catch you, and I'm gonna carve my name on your back with an ice pick.\n",
      "Moe_Szyslak: What's the matter Homer? You're not your normal effervescent self.\n",
      "Homer_Simpson: I got my problems, Moe. Give me another one.\n",
      "Moe_Szyslak: Homer, hey, you should not drink to forget your problems.\n",
      "Barney_Gumble: Yeah, you should only drink to enhance your social skills.\n",
      "\n",
      "\n"
     ]
    }
   ],
   "source": [
    "view_sentence_range = (0, 10)\n",
    "\n",
    "\"\"\"\n",
    "DON'T MODIFY ANYTHING IN THIS CELL\n",
    "\"\"\"\n",
    "import numpy as np\n",
    "\n",
    "print('Dataset Stats')\n",
    "print('Roughly the number of unique words: {}'.format(len({word: None for word in text.split()})))\n",
    "scenes = text.split('\\n\\n')\n",
    "print('Number of scenes: {}'.format(len(scenes)))\n",
    "sentence_count_scene = [scene.count('\\n') for scene in scenes]\n",
    "print('Average number of sentences in each scene: {}'.format(np.average(sentence_count_scene)))\n",
    "\n",
    "sentences = [sentence for scene in scenes for sentence in scene.split('\\n')]\n",
    "print('Number of lines: {}'.format(len(sentences)))\n",
    "word_count_sentence = [len(sentence.split()) for sentence in sentences]\n",
    "print('Average number of words in each line: {}'.format(np.average(word_count_sentence)))\n",
    "\n",
    "print()\n",
    "print('The sentences {} to {}:'.format(*view_sentence_range))\n",
    "print('\\n'.join(text.split('\\n')[view_sentence_range[0]:view_sentence_range[1]]))"
   ]
  },
  {
   "cell_type": "markdown",
   "metadata": {
    "deletable": true,
    "editable": true
   },
   "source": [
    "## Implement Preprocessing Functions\n",
    "The first thing to do to any dataset is preprocessing.  Implement the following preprocessing functions below:\n",
    "- Lookup Table\n",
    "- Tokenize Punctuation\n",
    "\n",
    "### Lookup Table\n",
    "To create a word embedding, you first need to transform the words to ids.  In this function, create two dictionaries:\n",
    "- Dictionary to go from the words to an id, we'll call `vocab_to_int`\n",
    "- Dictionary to go from the id to word, we'll call `int_to_vocab`\n",
    "\n",
    "Return these dictionaries in the following tuple `(vocab_to_int, int_to_vocab)`"
   ]
  },
  {
   "cell_type": "code",
   "execution_count": 3,
   "metadata": {
    "collapsed": false,
    "deletable": true,
    "editable": true
   },
   "outputs": [
    {
     "name": "stdout",
     "output_type": "stream",
     "text": [
      "Tests Passed\n"
     ]
    }
   ],
   "source": [
    "import numpy as np\n",
    "import problem_unittests as tests\n",
    "\n",
    "def create_lookup_tables(text):\n",
    "    \"\"\"\n",
    "    Create lookup tables for vocabulary\n",
    "    :param text: The text of tv scripts split into words\n",
    "    :return: A tuple of dicts (vocab_to_int, int_to_vocab)\n",
    "    \"\"\"\n",
    "    # TODO: Implement Function\n",
    "    vocab = set(text) \n",
    "    vocab_to_int = {c: i for i, c in enumerate(vocab)}\n",
    "    int_to_vocab = dict(enumerate(vocab))\n",
    "    return vocab_to_int, int_to_vocab\n",
    "\n",
    "\n",
    "\"\"\"\n",
    "DON'T MODIFY ANYTHING IN THIS CELL THAT IS BELOW THIS LINE\n",
    "\"\"\"\n",
    "tests.test_create_lookup_tables(create_lookup_tables)"
   ]
  },
  {
   "cell_type": "markdown",
   "metadata": {
    "deletable": true,
    "editable": true
   },
   "source": [
    "### Tokenize Punctuation\n",
    "We'll be splitting the script into a word array using spaces as delimiters.  However, punctuations like periods and exclamation marks make it hard for the neural network to distinguish between the word \"bye\" and \"bye!\".\n",
    "\n",
    "Implement the function `token_lookup` to return a dict that will be used to tokenize symbols like \"!\" into \"||Exclamation_Mark||\".  Create a dictionary for the following symbols where the symbol is the key and value is the token:\n",
    "- Period ( . )\n",
    "- Comma ( , )\n",
    "- Quotation Mark ( \" )\n",
    "- Semicolon ( ; )\n",
    "- Exclamation mark ( ! )\n",
    "- Question mark ( ? )\n",
    "- Left Parentheses ( ( )\n",
    "- Right Parentheses ( ) )\n",
    "- Dash ( -- )\n",
    "- Return ( \\n )\n",
    "\n",
    "This dictionary will be used to token the symbols and add the delimiter (space) around it.  This separates the symbols as it's own word, making it easier for the neural network to predict on the next word. Make sure you don't use a token that could be confused as a word. Instead of using the token \"dash\", try using something like \"||dash||\"."
   ]
  },
  {
   "cell_type": "code",
   "execution_count": 4,
   "metadata": {
    "collapsed": false,
    "deletable": true,
    "editable": true
   },
   "outputs": [
    {
     "name": "stdout",
     "output_type": "stream",
     "text": [
      "Tests Passed\n"
     ]
    }
   ],
   "source": [
    "def token_lookup():\n",
    "    \"\"\"\n",
    "    Generate a dict to turn punctuation into a token.\n",
    "    :return: Tokenize dictionary where the key is the punctuation and the value is the token\n",
    "    \"\"\"\n",
    "    # TODO: Implement Function\n",
    "    return {\n",
    "        '.':'||PERIOD||',\n",
    "        ',':'||COMMA||',\n",
    "        '\"':'||QUOTATION_MARK||',\n",
    "        ';':'||SEMICOLON||',\n",
    "        '!':'||EXCLAMATION_MARK||',\n",
    "        '?':'||QUESTION_MARK||',\n",
    "        '(':'||LEFT_PARENTHESES||',\n",
    "        ')':'||RIGHT_PARENTHESES||',\n",
    "        '--':'||DASH||',\n",
    "        '\\n':'||NEWLINE||',}\n",
    "\n",
    "\"\"\"\n",
    "DON'T MODIFY ANYTHING IN THIS CELL THAT IS BELOW THIS LINE\n",
    "\"\"\"\n",
    "tests.test_tokenize(token_lookup)"
   ]
  },
  {
   "cell_type": "markdown",
   "metadata": {
    "deletable": true,
    "editable": true
   },
   "source": [
    "## Preprocess all the data and save it\n",
    "Running the code cell below will preprocess all the data and save it to file."
   ]
  },
  {
   "cell_type": "code",
   "execution_count": 5,
   "metadata": {
    "collapsed": false,
    "deletable": true,
    "editable": true
   },
   "outputs": [],
   "source": [
    "\"\"\"\n",
    "DON'T MODIFY ANYTHING IN THIS CELL\n",
    "\"\"\"\n",
    "# Preprocess Training, Validation, and Testing Data\n",
    "helper.preprocess_and_save_data(data_dir, token_lookup, create_lookup_tables)"
   ]
  },
  {
   "cell_type": "markdown",
   "metadata": {
    "deletable": true,
    "editable": true
   },
   "source": [
    "# Check Point\n",
    "This is your first checkpoint. If you ever decide to come back to this notebook or have to restart the notebook, you can start from here. The preprocessed data has been saved to disk."
   ]
  },
  {
   "cell_type": "code",
   "execution_count": 1,
   "metadata": {
    "collapsed": false,
    "deletable": true,
    "editable": true
   },
   "outputs": [],
   "source": [
    "\"\"\"\n",
    "DON'T MODIFY ANYTHING IN THIS CELL\n",
    "\"\"\"\n",
    "import helper\n",
    "import numpy as np\n",
    "import problem_unittests as tests\n",
    "\n",
    "int_text, vocab_to_int, int_to_vocab, token_dict = helper.load_preprocess()"
   ]
  },
  {
   "cell_type": "code",
   "execution_count": 2,
   "metadata": {
    "collapsed": false,
    "deletable": true,
    "editable": true
   },
   "outputs": [
    {
     "data": {
      "text/plain": [
       "69116"
      ]
     },
     "execution_count": 2,
     "metadata": {},
     "output_type": "execute_result"
    }
   ],
   "source": [
    "len(int_text)"
   ]
  },
  {
   "cell_type": "markdown",
   "metadata": {
    "deletable": true,
    "editable": true
   },
   "source": [
    "## Build the Neural Network\n",
    "You'll build the components necessary to build a RNN by implementing the following functions below:\n",
    "- get_inputs\n",
    "- get_init_cell\n",
    "- get_embed\n",
    "- build_rnn\n",
    "- build_nn\n",
    "- get_batches\n",
    "\n",
    "### Check the Version of TensorFlow and Access to GPU"
   ]
  },
  {
   "cell_type": "code",
   "execution_count": 3,
   "metadata": {
    "collapsed": false,
    "deletable": true,
    "editable": true
   },
   "outputs": [
    {
     "name": "stdout",
     "output_type": "stream",
     "text": [
      "TensorFlow Version: 1.0.1\n",
      "Default GPU Device: /gpu:0\n"
     ]
    }
   ],
   "source": [
    "\"\"\"\n",
    "DON'T MODIFY ANYTHING IN THIS CELL\n",
    "\"\"\"\n",
    "from distutils.version import LooseVersion\n",
    "import warnings\n",
    "import tensorflow as tf\n",
    "\n",
    "# Check TensorFlow Version\n",
    "assert LooseVersion(tf.__version__) >= LooseVersion('1.0'), 'Please use TensorFlow version 1.0 or newer'\n",
    "print('TensorFlow Version: {}'.format(tf.__version__))\n",
    "\n",
    "# Check for a GPU\n",
    "if not tf.test.gpu_device_name():\n",
    "    warnings.warn('No GPU found. Please use a GPU to train your neural network.')\n",
    "else:\n",
    "    print('Default GPU Device: {}'.format(tf.test.gpu_device_name()))"
   ]
  },
  {
   "cell_type": "markdown",
   "metadata": {
    "deletable": true,
    "editable": true
   },
   "source": [
    "### Input\n",
    "Implement the `get_inputs()` function to create TF Placeholders for the Neural Network.  It should create the following placeholders:\n",
    "- Input text placeholder named \"input\" using the [TF Placeholder](https://www.tensorflow.org/api_docs/python/tf/placeholder) `name` parameter.\n",
    "- Targets placeholder\n",
    "- Learning Rate placeholder\n",
    "\n",
    "Return the placeholders in the following the tuple `(Input, Targets, LearingRate)`"
   ]
  },
  {
   "cell_type": "code",
   "execution_count": 59,
   "metadata": {
    "collapsed": false,
    "deletable": true,
    "editable": true
   },
   "outputs": [
    {
     "name": "stdout",
     "output_type": "stream",
     "text": [
      "Tests Passed\n"
     ]
    }
   ],
   "source": [
    "def get_inputs():\n",
    "    \"\"\"\n",
    "    Create TF Placeholders for input, targets, and learning rate.\n",
    "    :return: Tuple (input, targets, learning rate)\n",
    "    \"\"\"\n",
    "    # TODO: Implement Function\n",
    "    input = tf.placeholder(tf.int32,shape=(None,None),name=\"input\")\n",
    "    targets = tf.placeholder(tf.int32,shape=(None,None),name=\"targets\")\n",
    "    learning_rate = tf.placeholder(tf.float32,name=\"learning_rate\")\n",
    "    \n",
    "    return input, targets, learning_rate\n",
    "\n",
    "\n",
    "\"\"\"\n",
    "DON'T MODIFY ANYTHING IN THIS CELL THAT IS BELOW THIS LINE\n",
    "\"\"\"\n",
    "tests.test_get_inputs(get_inputs)"
   ]
  },
  {
   "cell_type": "markdown",
   "metadata": {
    "deletable": true,
    "editable": true
   },
   "source": [
    "### Build RNN Cell and Initialize\n",
    "Stack one or more [`BasicLSTMCells`](https://www.tensorflow.org/api_docs/python/tf/contrib/rnn/BasicLSTMCell) in a [`MultiRNNCell`](https://www.tensorflow.org/api_docs/python/tf/contrib/rnn/MultiRNNCell).\n",
    "- The Rnn size should be set using `rnn_size`\n",
    "- Initalize Cell State using the MultiRNNCell's [`zero_state()`](https://www.tensorflow.org/api_docs/python/tf/contrib/rnn/MultiRNNCell#zero_state) function\n",
    "    - Apply the name \"initial_state\" to the initial state using [`tf.identity()`](https://www.tensorflow.org/api_docs/python/tf/identity)\n",
    "\n",
    "Return the cell and initial state in the following tuple `(Cell, InitialState)`"
   ]
  },
  {
   "cell_type": "code",
   "execution_count": 60,
   "metadata": {
    "collapsed": false,
    "deletable": true,
    "editable": true
   },
   "outputs": [
    {
     "name": "stdout",
     "output_type": "stream",
     "text": [
      "Tests Passed\n"
     ]
    }
   ],
   "source": [
    "def get_init_cell(batch_size, rnn_size):\n",
    "    \"\"\"\n",
    "    Create an RNN Cell and initialize it.\n",
    "    :param batch_size: Size of batches\n",
    "    :param rnn_size: Size of RNNs\n",
    "    :return: Tuple (cell, initialize state)\n",
    "    \"\"\"\n",
    "    # TODO: Implement Function\n",
    "    lstm = tf.contrib.rnn.BasicLSTMCell(rnn_size)\n",
    "    cell = tf.contrib.rnn.MultiRNNCell([lstm])\n",
    "    initial_state = tf.identity(cell.zero_state(batch_size,tf.float32),name=\"initial_state\")\n",
    "    \n",
    "    return cell, initial_state\n",
    "\n",
    "\n",
    "\"\"\"\n",
    "DON'T MODIFY ANYTHING IN THIS CELL THAT IS BELOW THIS LINE\n",
    "\"\"\"\n",
    "tests.test_get_init_cell(get_init_cell)"
   ]
  },
  {
   "cell_type": "markdown",
   "metadata": {
    "deletable": true,
    "editable": true
   },
   "source": [
    "### Word Embedding\n",
    "Apply embedding to `input_data` using TensorFlow.  Return the embedded sequence."
   ]
  },
  {
   "cell_type": "code",
   "execution_count": 61,
   "metadata": {
    "collapsed": false,
    "deletable": true,
    "editable": true
   },
   "outputs": [
    {
     "name": "stdout",
     "output_type": "stream",
     "text": [
      "Tests Passed\n"
     ]
    }
   ],
   "source": [
    "def get_embed(input_data, vocab_size, embed_dim):\n",
    "    \"\"\"\n",
    "    Create embedding for <input_data>.\n",
    "    :param input_data: TF placeholder for text input.\n",
    "    :param vocab_size: Number of words in vocabulary.\n",
    "    :param embed_dim: Number of embedding dimensions\n",
    "    :return: Embedded input.\n",
    "    \"\"\"\n",
    "    # TODO: Implement Function\n",
    "    embedding_weights = tf.Variable(tf.truncated_normal([vocab_size,embed_dim], -1.0, 1.0))\n",
    "    return tf.nn.embedding_lookup(embedding_weights,input_data)\n",
    "\n",
    "\n",
    "\"\"\"\n",
    "DON'T MODIFY ANYTHING IN THIS CELL THAT IS BELOW THIS LINE\n",
    "\"\"\"\n",
    "tests.test_get_embed(get_embed)"
   ]
  },
  {
   "cell_type": "markdown",
   "metadata": {
    "deletable": true,
    "editable": true
   },
   "source": [
    "### Build RNN\n",
    "You created a RNN Cell in the `get_init_cell()` function.  Time to use the cell to create a RNN.\n",
    "- Build the RNN using the [`tf.nn.dynamic_rnn()`](https://www.tensorflow.org/api_docs/python/tf/nn/dynamic_rnn)\n",
    " - Apply the name \"final_state\" to the final state using [`tf.identity()`](https://www.tensorflow.org/api_docs/python/tf/identity)\n",
    "\n",
    "Return the outputs and final_state state in the following tuple `(Outputs, FinalState)` "
   ]
  },
  {
   "cell_type": "code",
   "execution_count": 62,
   "metadata": {
    "collapsed": false,
    "deletable": true,
    "editable": true
   },
   "outputs": [
    {
     "name": "stdout",
     "output_type": "stream",
     "text": [
      "Tests Passed\n"
     ]
    }
   ],
   "source": [
    "def build_rnn(cell, inputs):\n",
    "    \"\"\"\n",
    "    Create a RNN using a RNN Cell\n",
    "    :param cell: RNN Cell\n",
    "    :param inputs: Input text data\n",
    "    :return: Tuple (Outputs, Final State)\n",
    "    \"\"\"\n",
    "    # TODO: Implement Function\n",
    "    outputs, final_state = tf.nn.dynamic_rnn(cell, inputs,dtype=tf.float32)\n",
    "    final_state = tf.identity(final_state,name=\"final_state\")\n",
    "    return outputs, final_state\n",
    "\n",
    "\n",
    "\"\"\"\n",
    "DON'T MODIFY ANYTHING IN THIS CELL THAT IS BELOW THIS LINE\n",
    "\"\"\"\n",
    "tests.test_build_rnn(build_rnn)"
   ]
  },
  {
   "cell_type": "markdown",
   "metadata": {
    "deletable": true,
    "editable": true
   },
   "source": [
    "### Build the Neural Network\n",
    "Apply the functions you implemented above to:\n",
    "- Apply embedding to `input_data` using your `get_embed(input_data, vocab_size, embed_dim)` function.\n",
    "- Build RNN using `cell` and your `build_rnn(cell, inputs)` function.\n",
    "- Apply a fully connected layer with a linear activation and `vocab_size` as the number of outputs.\n",
    "\n",
    "Return the logits and final state in the following tuple (Logits, FinalState) "
   ]
  },
  {
   "cell_type": "code",
   "execution_count": 63,
   "metadata": {
    "collapsed": false,
    "deletable": true,
    "editable": true
   },
   "outputs": [
    {
     "name": "stdout",
     "output_type": "stream",
     "text": [
      "Tests Passed\n"
     ]
    }
   ],
   "source": [
    "def build_nn(cell, rnn_size, input_data, vocab_size):\n",
    "    \"\"\"\n",
    "    Build part of the neural network\n",
    "    :param cell: RNN cell\n",
    "    :param rnn_size: Size of rnns\n",
    "    :param input_data: Input data\n",
    "    :param vocab_size: Vocabulary size\n",
    "    :return: Tuple (Logits, FinalState)\n",
    "    \"\"\"\n",
    "    # TODO: Implement Function\n",
    "    inputs = get_embed(input_data, vocab_size, 200)\n",
    "    outputs, final_state = build_rnn(cell,inputs)\n",
    "    \n",
    "    #apply fully connected layer to output. automatically flattens input to 2d and expands result\n",
    "    logits = tf.contrib.layers.fully_connected(outputs, vocab_size, activation_fn=None,weights_initializer=\n",
    "                        tf.contrib.layers.xavier_initializer(uniform=False, seed=None, dtype=tf.float32))\n",
    "    \n",
    "    return logits, final_state\n",
    "\n",
    "\n",
    "\"\"\"\n",
    "DON'T MODIFY ANYTHING IN THIS CELL THAT IS BELOW THIS LINE\n",
    "\"\"\"\n",
    "tests.test_build_nn(build_nn)"
   ]
  },
  {
   "cell_type": "markdown",
   "metadata": {
    "deletable": true,
    "editable": true
   },
   "source": [
    "### Batches\n",
    "Implement `get_batches` to create batches of input and targets using `int_text`.  The batches should be a Numpy array with the shape `(number of batches, 2, batch size, sequence length)`. Each batch contains two elements:\n",
    "- The first element is a single batch of **input** with the shape `[batch size, sequence length]`\n",
    "- The second element is a single batch of **targets** with the shape `[batch size, sequence length]`\n",
    "\n",
    "If you can't fill the last batch with enough data, drop the last batch.\n",
    "\n",
    "For exmple, `get_batches([1, 2, 3, 4, 5, 6, 7, 8, 9, 10, 11, 12, 13, 14, 15], 2, 3)` would return a Numpy array of the following:\n",
    "```\n",
    "[\n",
    "  # First Batch\n",
    "  [\n",
    "    # Batch of Input\n",
    "    [[ 1  2  3], [ 7  8  9]],\n",
    "    # Batch of targets\n",
    "    [[ 2  3  4], [ 8  9 10]]\n",
    "  ],\n",
    " \n",
    "  # Second Batch\n",
    "  [\n",
    "    # Batch of Input\n",
    "    [[ 4  5  6], [10 11 12]],\n",
    "    # Batch of targets\n",
    "    [[ 5  6  7], [11 12 13]]\n",
    "  ]\n",
    "]\n",
    "```"
   ]
  },
  {
   "cell_type": "code",
   "execution_count": 64,
   "metadata": {
    "collapsed": false,
    "deletable": true,
    "editable": true
   },
   "outputs": [
    {
     "name": "stdout",
     "output_type": "stream",
     "text": [
      "Tests Passed\n"
     ]
    }
   ],
   "source": [
    "def get_batches(int_text, batch_size, seq_length):\n",
    "    \"\"\"\n",
    "    Return batches of input and target\n",
    "    :param int_text: Text with the words replaced by their ids\n",
    "    :param batch_size: The size of batch\n",
    "    :param seq_length: The length of sequence\n",
    "    :return: Batches as a Numpy array\n",
    "    \"\"\"\n",
    "    # TODO: Implement Function\n",
    "    n_batches = int(len(int_text) / (batch_size * seq_length))\n",
    "\n",
    "    # Drop the last few characters to make only full batches\n",
    "    xdata = np.array(int_text[: n_batches * batch_size * seq_length])\n",
    "    ydata = np.array(int_text[1: n_batches * batch_size * seq_length + 1])\n",
    "\n",
    "    x_batches = np.split(xdata.reshape(batch_size, -1), n_batches, 1)\n",
    "    y_batches = np.split(ydata.reshape(batch_size, -1), n_batches, 1)\n",
    "\n",
    "    return np.array(list(zip(x_batches, y_batches)))\n",
    "    \n",
    "\n",
    "\n",
    "\"\"\"\n",
    "DON'T MODIFY ANYTHING IN THIS CELL THAT IS BELOW THIS LINE\n",
    "\"\"\"\n",
    "tests.test_get_batches(get_batches)"
   ]
  },
  {
   "cell_type": "markdown",
   "metadata": {
    "deletable": true,
    "editable": true
   },
   "source": [
    "## Neural Network Training\n",
    "### Hyperparameters\n",
    "Tune the following parameters:\n",
    "\n",
    "- Set `num_epochs` to the number of epochs.\n",
    "- Set `batch_size` to the batch size.\n",
    "- Set `rnn_size` to the size of the RNNs.\n",
    "- Set `seq_length` to the length of sequence.\n",
    "- Set `learning_rate` to the learning rate.\n",
    "- Set `show_every_n_batches` to the number of batches the neural network should print progress."
   ]
  },
  {
   "cell_type": "code",
   "execution_count": 125,
   "metadata": {
    "collapsed": true,
    "deletable": true,
    "editable": true
   },
   "outputs": [],
   "source": [
    "# Number of Epochs\n",
    "num_epochs = 1500\n",
    "# Batch Size\n",
    "batch_size = 128\n",
    "# RNN Size\n",
    "rnn_size = 128\n",
    "# Sequence Length\n",
    "seq_length = 32\n",
    "# Learning Rate\n",
    "learning_rate = .001\n",
    "# Show stats for every n number of batches\n",
    "show_every_n_batches = 50\n",
    "\n",
    "\"\"\"\n",
    "DON'T MODIFY ANYTHING IN THIS CELL THAT IS BELOW THIS LINE\n",
    "\"\"\"\n",
    "save_dir = './save'"
   ]
  },
  {
   "cell_type": "markdown",
   "metadata": {
    "deletable": true,
    "editable": true
   },
   "source": [
    "### Build the Graph\n",
    "Build the graph using the neural network you implemented."
   ]
  },
  {
   "cell_type": "code",
   "execution_count": 126,
   "metadata": {
    "collapsed": false,
    "deletable": true,
    "editable": true
   },
   "outputs": [],
   "source": [
    "\"\"\"\n",
    "DON'T MODIFY ANYTHING IN THIS CELL\n",
    "\"\"\"\n",
    "from tensorflow.contrib import seq2seq\n",
    "\n",
    "train_graph = tf.Graph()\n",
    "with train_graph.as_default():\n",
    "    vocab_size = len(int_to_vocab)\n",
    "    input_text, targets, lr = get_inputs()\n",
    "    input_data_shape = tf.shape(input_text)\n",
    "    cell, initial_state = get_init_cell(input_data_shape[0], rnn_size)\n",
    "    logits, final_state = build_nn(cell, rnn_size, input_text, vocab_size)\n",
    "\n",
    "    # Probabilities for generating words\n",
    "    probs = tf.nn.softmax(logits, name='probs')\n",
    "\n",
    "    # Loss function\n",
    "    cost = seq2seq.sequence_loss(\n",
    "        logits,\n",
    "        targets,\n",
    "        tf.ones([input_data_shape[0], input_data_shape[1]]))\n",
    "\n",
    "    # Optimizer\n",
    "    optimizer = tf.train.AdamOptimizer(lr)\n",
    "\n",
    "    # Gradient Clipping\n",
    "    gradients = optimizer.compute_gradients(cost)\n",
    "    capped_gradients = [(tf.clip_by_value(grad, -1., 1.), var) for grad, var in gradients]\n",
    "    train_op = optimizer.apply_gradients(capped_gradients)"
   ]
  },
  {
   "cell_type": "markdown",
   "metadata": {
    "deletable": true,
    "editable": true
   },
   "source": [
    "## Train\n",
    "Train the neural network on the preprocessed data.  If you have a hard time getting a good loss, check the [forms](https://discussions.udacity.com/) to see if anyone is having the same problem."
   ]
  },
  {
   "cell_type": "code",
   "execution_count": 127,
   "metadata": {
    "collapsed": false,
    "deletable": true,
    "editable": true
   },
   "outputs": [
    {
     "name": "stdout",
     "output_type": "stream",
     "text": [
      "Epoch   0 Batch    0/16   train_loss = 8.821\n",
      "Epoch   3 Batch    2/16   train_loss = 5.891\n",
      "Epoch   6 Batch    4/16   train_loss = 5.870\n",
      "Epoch   9 Batch    6/16   train_loss = 5.908\n",
      "Epoch  12 Batch    8/16   train_loss = 5.786\n",
      "Epoch  15 Batch   10/16   train_loss = 5.752\n",
      "Epoch  18 Batch   12/16   train_loss = 5.596\n",
      "Epoch  21 Batch   14/16   train_loss = 5.491\n",
      "Epoch  25 Batch    0/16   train_loss = 5.346\n",
      "Epoch  28 Batch    2/16   train_loss = 5.181\n",
      "Epoch  31 Batch    4/16   train_loss = 5.078\n",
      "Epoch  34 Batch    6/16   train_loss = 5.066\n",
      "Epoch  37 Batch    8/16   train_loss = 4.908\n",
      "Epoch  40 Batch   10/16   train_loss = 4.857\n",
      "Epoch  43 Batch   12/16   train_loss = 4.693\n",
      "Epoch  46 Batch   14/16   train_loss = 4.628\n",
      "Epoch  50 Batch    0/16   train_loss = 4.556\n",
      "Epoch  53 Batch    2/16   train_loss = 4.470\n",
      "Epoch  56 Batch    4/16   train_loss = 4.428\n",
      "Epoch  59 Batch    6/16   train_loss = 4.438\n",
      "Epoch  62 Batch    8/16   train_loss = 4.329\n",
      "Epoch  65 Batch   10/16   train_loss = 4.301\n",
      "Epoch  68 Batch   12/16   train_loss = 4.150\n",
      "Epoch  71 Batch   14/16   train_loss = 4.126\n",
      "Epoch  75 Batch    0/16   train_loss = 4.075\n",
      "Epoch  78 Batch    2/16   train_loss = 4.011\n",
      "Epoch  81 Batch    4/16   train_loss = 3.979\n",
      "Epoch  84 Batch    6/16   train_loss = 3.974\n",
      "Epoch  87 Batch    8/16   train_loss = 3.887\n",
      "Epoch  90 Batch   10/16   train_loss = 3.855\n",
      "Epoch  93 Batch   12/16   train_loss = 3.729\n",
      "Epoch  96 Batch   14/16   train_loss = 3.715\n",
      "Epoch 100 Batch    0/16   train_loss = 3.686\n",
      "Epoch 103 Batch    2/16   train_loss = 3.630\n",
      "Epoch 106 Batch    4/16   train_loss = 3.606\n",
      "Epoch 109 Batch    6/16   train_loss = 3.576\n",
      "Epoch 112 Batch    8/16   train_loss = 3.498\n",
      "Epoch 115 Batch   10/16   train_loss = 3.470\n",
      "Epoch 118 Batch   12/16   train_loss = 3.362\n",
      "Epoch 121 Batch   14/16   train_loss = 3.349\n",
      "Epoch 125 Batch    0/16   train_loss = 3.339\n",
      "Epoch 128 Batch    2/16   train_loss = 3.294\n",
      "Epoch 131 Batch    4/16   train_loss = 3.279\n",
      "Epoch 134 Batch    6/16   train_loss = 3.202\n",
      "Epoch 137 Batch    8/16   train_loss = 3.149\n",
      "Epoch 140 Batch   10/16   train_loss = 3.134\n",
      "Epoch 143 Batch   12/16   train_loss = 3.041\n",
      "Epoch 146 Batch   14/16   train_loss = 3.033\n",
      "Epoch 150 Batch    0/16   train_loss = 3.022\n",
      "Epoch 153 Batch    2/16   train_loss = 2.984\n",
      "Epoch 156 Batch    4/16   train_loss = 2.965\n",
      "Epoch 159 Batch    6/16   train_loss = 2.879\n",
      "Epoch 162 Batch    8/16   train_loss = 2.858\n",
      "Epoch 165 Batch   10/16   train_loss = 2.855\n",
      "Epoch 168 Batch   12/16   train_loss = 2.778\n",
      "Epoch 171 Batch   14/16   train_loss = 2.764\n",
      "Epoch 175 Batch    0/16   train_loss = 2.750\n",
      "Epoch 178 Batch    2/16   train_loss = 2.733\n",
      "Epoch 181 Batch    4/16   train_loss = 2.715\n",
      "Epoch 184 Batch    6/16   train_loss = 2.624\n",
      "Epoch 187 Batch    8/16   train_loss = 2.611\n",
      "Epoch 190 Batch   10/16   train_loss = 2.613\n",
      "Epoch 193 Batch   12/16   train_loss = 2.536\n",
      "Epoch 196 Batch   14/16   train_loss = 2.526\n",
      "Epoch 200 Batch    0/16   train_loss = 2.513\n",
      "Epoch 203 Batch    2/16   train_loss = 2.505\n",
      "Epoch 206 Batch    4/16   train_loss = 2.480\n",
      "Epoch 209 Batch    6/16   train_loss = 2.395\n",
      "Epoch 212 Batch    8/16   train_loss = 2.393\n",
      "Epoch 215 Batch   10/16   train_loss = 2.398\n",
      "Epoch 218 Batch   12/16   train_loss = 2.340\n",
      "Epoch 221 Batch   14/16   train_loss = 2.340\n",
      "Epoch 225 Batch    0/16   train_loss = 2.321\n",
      "Epoch 228 Batch    2/16   train_loss = 2.320\n",
      "Epoch 231 Batch    4/16   train_loss = 2.284\n",
      "Epoch 234 Batch    6/16   train_loss = 2.190\n",
      "Epoch 237 Batch    8/16   train_loss = 2.188\n",
      "Epoch 240 Batch   10/16   train_loss = 2.188\n",
      "Epoch 243 Batch   12/16   train_loss = 2.137\n",
      "Epoch 246 Batch   14/16   train_loss = 2.141\n",
      "Epoch 250 Batch    0/16   train_loss = 2.116\n",
      "Epoch 253 Batch    2/16   train_loss = 2.128\n",
      "Epoch 256 Batch    4/16   train_loss = 2.094\n",
      "Epoch 259 Batch    6/16   train_loss = 2.007\n",
      "Epoch 262 Batch    8/16   train_loss = 2.014\n",
      "Epoch 265 Batch   10/16   train_loss = 2.010\n",
      "Epoch 268 Batch   12/16   train_loss = 1.968\n",
      "Epoch 271 Batch   14/16   train_loss = 1.972\n",
      "Epoch 275 Batch    0/16   train_loss = 1.947\n",
      "Epoch 278 Batch    2/16   train_loss = 1.953\n",
      "Epoch 281 Batch    4/16   train_loss = 1.916\n",
      "Epoch 284 Batch    6/16   train_loss = 1.836\n",
      "Epoch 287 Batch    8/16   train_loss = 1.846\n",
      "Epoch 290 Batch   10/16   train_loss = 1.847\n",
      "Epoch 293 Batch   12/16   train_loss = 1.804\n",
      "Epoch 296 Batch   14/16   train_loss = 1.813\n",
      "Epoch 300 Batch    0/16   train_loss = 1.782\n",
      "Epoch 303 Batch    2/16   train_loss = 1.800\n",
      "Epoch 306 Batch    4/16   train_loss = 1.759\n",
      "Epoch 309 Batch    6/16   train_loss = 1.687\n",
      "Epoch 312 Batch    8/16   train_loss = 1.696\n",
      "Epoch 315 Batch   10/16   train_loss = 1.692\n",
      "Epoch 318 Batch   12/16   train_loss = 1.670\n",
      "Epoch 321 Batch   14/16   train_loss = 1.686\n",
      "Epoch 325 Batch    0/16   train_loss = 1.659\n",
      "Epoch 328 Batch    2/16   train_loss = 1.680\n",
      "Epoch 331 Batch    4/16   train_loss = 1.646\n",
      "Epoch 334 Batch    6/16   train_loss = 1.559\n",
      "Epoch 337 Batch    8/16   train_loss = 1.569\n",
      "Epoch 340 Batch   10/16   train_loss = 1.578\n",
      "Epoch 343 Batch   12/16   train_loss = 1.548\n",
      "Epoch 346 Batch   14/16   train_loss = 1.544\n",
      "Epoch 350 Batch    0/16   train_loss = 1.517\n",
      "Epoch 353 Batch    2/16   train_loss = 1.536\n",
      "Epoch 356 Batch    4/16   train_loss = 1.491\n",
      "Epoch 359 Batch    6/16   train_loss = 1.426\n",
      "Epoch 362 Batch    8/16   train_loss = 1.450\n",
      "Epoch 365 Batch   10/16   train_loss = 1.457\n",
      "Epoch 368 Batch   12/16   train_loss = 1.426\n",
      "Epoch 371 Batch   14/16   train_loss = 1.445\n",
      "Epoch 375 Batch    0/16   train_loss = 1.413\n",
      "Epoch 378 Batch    2/16   train_loss = 1.421\n",
      "Epoch 381 Batch    4/16   train_loss = 1.373\n",
      "Epoch 384 Batch    6/16   train_loss = 1.319\n",
      "Epoch 387 Batch    8/16   train_loss = 1.319\n",
      "Epoch 390 Batch   10/16   train_loss = 1.325\n",
      "Epoch 393 Batch   12/16   train_loss = 1.326\n",
      "Epoch 396 Batch   14/16   train_loss = 1.333\n",
      "Epoch 400 Batch    0/16   train_loss = 1.301\n",
      "Epoch 403 Batch    2/16   train_loss = 1.314\n",
      "Epoch 406 Batch    4/16   train_loss = 1.263\n",
      "Epoch 409 Batch    6/16   train_loss = 1.199\n",
      "Epoch 412 Batch    8/16   train_loss = 1.212\n",
      "Epoch 415 Batch   10/16   train_loss = 1.221\n",
      "Epoch 418 Batch   12/16   train_loss = 1.222\n",
      "Epoch 421 Batch   14/16   train_loss = 1.210\n",
      "Epoch 425 Batch    0/16   train_loss = 1.184\n",
      "Epoch 428 Batch    2/16   train_loss = 1.223\n",
      "Epoch 431 Batch    4/16   train_loss = 1.201\n",
      "Epoch 434 Batch    6/16   train_loss = 1.139\n",
      "Epoch 437 Batch    8/16   train_loss = 1.153\n",
      "Epoch 440 Batch   10/16   train_loss = 1.133\n",
      "Epoch 443 Batch   12/16   train_loss = 1.124\n",
      "Epoch 446 Batch   14/16   train_loss = 1.119\n",
      "Epoch 450 Batch    0/16   train_loss = 1.088\n",
      "Epoch 453 Batch    2/16   train_loss = 1.123\n",
      "Epoch 456 Batch    4/16   train_loss = 1.089\n",
      "Epoch 459 Batch    6/16   train_loss = 1.022\n",
      "Epoch 462 Batch    8/16   train_loss = 1.043\n",
      "Epoch 465 Batch   10/16   train_loss = 1.050\n",
      "Epoch 468 Batch   12/16   train_loss = 1.062\n",
      "Epoch 471 Batch   14/16   train_loss = 1.061\n",
      "Epoch 475 Batch    0/16   train_loss = 1.019\n",
      "Epoch 478 Batch    2/16   train_loss = 1.046\n",
      "Epoch 481 Batch    4/16   train_loss = 1.010\n",
      "Epoch 484 Batch    6/16   train_loss = 0.941\n",
      "Epoch 487 Batch    8/16   train_loss = 0.958\n",
      "Epoch 490 Batch   10/16   train_loss = 0.954\n",
      "Epoch 493 Batch   12/16   train_loss = 0.979\n",
      "Epoch 496 Batch   14/16   train_loss = 0.948\n",
      "Epoch 500 Batch    0/16   train_loss = 0.923\n",
      "Epoch 503 Batch    2/16   train_loss = 0.950\n",
      "Epoch 506 Batch    4/16   train_loss = 0.907\n",
      "Epoch 509 Batch    6/16   train_loss = 0.855\n",
      "Epoch 512 Batch    8/16   train_loss = 0.876\n",
      "Epoch 515 Batch   10/16   train_loss = 0.876\n",
      "Epoch 518 Batch   12/16   train_loss = 0.885\n",
      "Epoch 521 Batch   14/16   train_loss = 0.885\n",
      "Epoch 525 Batch    0/16   train_loss = 0.864\n",
      "Epoch 528 Batch    2/16   train_loss = 0.898\n",
      "Epoch 531 Batch    4/16   train_loss = 0.859\n",
      "Epoch 534 Batch    6/16   train_loss = 0.813\n",
      "Epoch 537 Batch    8/16   train_loss = 0.832\n",
      "Epoch 540 Batch   10/16   train_loss = 0.831\n",
      "Epoch 543 Batch   12/16   train_loss = 0.837\n",
      "Epoch 546 Batch   14/16   train_loss = 0.824\n",
      "Epoch 550 Batch    0/16   train_loss = 0.781\n",
      "Epoch 553 Batch    2/16   train_loss = 0.817\n",
      "Epoch 556 Batch    4/16   train_loss = 0.778\n",
      "Epoch 559 Batch    6/16   train_loss = 0.742\n",
      "Epoch 562 Batch    8/16   train_loss = 0.772\n",
      "Epoch 565 Batch   10/16   train_loss = 0.783\n",
      "Epoch 568 Batch   12/16   train_loss = 0.788\n",
      "Epoch 571 Batch   14/16   train_loss = 0.756\n",
      "Epoch 575 Batch    0/16   train_loss = 0.728\n",
      "Epoch 578 Batch    2/16   train_loss = 0.780\n",
      "Epoch 581 Batch    4/16   train_loss = 0.753\n",
      "Epoch 584 Batch    6/16   train_loss = 0.731\n",
      "Epoch 587 Batch    8/16   train_loss = 0.725\n",
      "Epoch 590 Batch   10/16   train_loss = 0.696\n",
      "Epoch 593 Batch   12/16   train_loss = 0.690\n",
      "Epoch 596 Batch   14/16   train_loss = 0.672\n",
      "Epoch 600 Batch    0/16   train_loss = 0.645\n",
      "Epoch 603 Batch    2/16   train_loss = 0.679\n",
      "Epoch 606 Batch    4/16   train_loss = 0.642\n",
      "Epoch 609 Batch    6/16   train_loss = 0.620\n",
      "Epoch 612 Batch    8/16   train_loss = 0.631\n",
      "Epoch 615 Batch   10/16   train_loss = 0.632\n",
      "Epoch 618 Batch   12/16   train_loss = 0.645\n",
      "Epoch 621 Batch   14/16   train_loss = 0.632\n",
      "Epoch 625 Batch    0/16   train_loss = 0.616\n",
      "Epoch 628 Batch    2/16   train_loss = 0.662\n",
      "Epoch 631 Batch    4/16   train_loss = 0.628\n",
      "Epoch 634 Batch    6/16   train_loss = 0.615\n",
      "Epoch 637 Batch    8/16   train_loss = 0.639\n",
      "Epoch 640 Batch   10/16   train_loss = 0.631\n",
      "Epoch 643 Batch   12/16   train_loss = 0.624\n",
      "Epoch 646 Batch   14/16   train_loss = 0.589\n",
      "Epoch 650 Batch    0/16   train_loss = 0.560\n",
      "Epoch 653 Batch    2/16   train_loss = 0.597\n",
      "Epoch 656 Batch    4/16   train_loss = 0.562\n",
      "Epoch 659 Batch    6/16   train_loss = 0.536\n",
      "Epoch 662 Batch    8/16   train_loss = 0.557\n",
      "Epoch 665 Batch   10/16   train_loss = 0.560\n",
      "Epoch 668 Batch   12/16   train_loss = 0.559\n",
      "Epoch 671 Batch   14/16   train_loss = 0.538\n",
      "Epoch 675 Batch    0/16   train_loss = 0.511\n",
      "Epoch 678 Batch    2/16   train_loss = 0.553\n",
      "Epoch 681 Batch    4/16   train_loss = 0.513\n",
      "Epoch 684 Batch    6/16   train_loss = 0.504\n",
      "Epoch 687 Batch    8/16   train_loss = 0.504\n",
      "Epoch 690 Batch   10/16   train_loss = 0.499\n",
      "Epoch 693 Batch   12/16   train_loss = 0.514\n",
      "Epoch 696 Batch   14/16   train_loss = 0.507\n",
      "Epoch 700 Batch    0/16   train_loss = 0.500\n",
      "Epoch 703 Batch    2/16   train_loss = 0.518\n",
      "Epoch 706 Batch    4/16   train_loss = 0.496\n",
      "Epoch 709 Batch    6/16   train_loss = 0.482\n",
      "Epoch 712 Batch    8/16   train_loss = 0.484\n",
      "Epoch 715 Batch   10/16   train_loss = 0.510\n",
      "Epoch 718 Batch   12/16   train_loss = 0.490\n",
      "Epoch 721 Batch   14/16   train_loss = 0.464\n",
      "Epoch 725 Batch    0/16   train_loss = 0.441\n",
      "Epoch 728 Batch    2/16   train_loss = 0.469\n",
      "Epoch 731 Batch    4/16   train_loss = 0.446\n",
      "Epoch 734 Batch    6/16   train_loss = 0.430\n",
      "Epoch 737 Batch    8/16   train_loss = 0.432\n",
      "Epoch 740 Batch   10/16   train_loss = 0.444\n",
      "Epoch 743 Batch   12/16   train_loss = 0.457\n",
      "Epoch 746 Batch   14/16   train_loss = 0.443\n",
      "Epoch 750 Batch    0/16   train_loss = 0.428\n",
      "Epoch 753 Batch    2/16   train_loss = 0.450\n",
      "Epoch 756 Batch    4/16   train_loss = 0.424\n",
      "Epoch 759 Batch    6/16   train_loss = 0.409\n",
      "Epoch 762 Batch    8/16   train_loss = 0.401\n",
      "Epoch 765 Batch   10/16   train_loss = 0.410\n",
      "Epoch 768 Batch   12/16   train_loss = 0.430\n",
      "Epoch 771 Batch   14/16   train_loss = 0.409\n",
      "Epoch 775 Batch    0/16   train_loss = 0.394\n",
      "Epoch 778 Batch    2/16   train_loss = 0.414\n",
      "Epoch 781 Batch    4/16   train_loss = 0.417\n",
      "Epoch 784 Batch    6/16   train_loss = 0.393\n",
      "Epoch 787 Batch    8/16   train_loss = 0.384\n",
      "Epoch 790 Batch   10/16   train_loss = 0.391\n",
      "Epoch 793 Batch   12/16   train_loss = 0.371\n",
      "Epoch 796 Batch   14/16   train_loss = 0.355\n",
      "Epoch 800 Batch    0/16   train_loss = 0.333\n",
      "Epoch 803 Batch    2/16   train_loss = 0.359\n",
      "Epoch 806 Batch    4/16   train_loss = 0.340\n",
      "Epoch 809 Batch    6/16   train_loss = 0.330\n",
      "Epoch 812 Batch    8/16   train_loss = 0.315\n",
      "Epoch 815 Batch   10/16   train_loss = 0.330\n",
      "Epoch 818 Batch   12/16   train_loss = 0.335\n",
      "Epoch 821 Batch   14/16   train_loss = 0.342\n",
      "Epoch 825 Batch    0/16   train_loss = 0.335\n",
      "Epoch 828 Batch    2/16   train_loss = 0.354\n",
      "Epoch 831 Batch    4/16   train_loss = 0.341\n",
      "Epoch 834 Batch    6/16   train_loss = 0.327\n",
      "Epoch 837 Batch    8/16   train_loss = 0.315\n",
      "Epoch 840 Batch   10/16   train_loss = 0.319\n",
      "Epoch 843 Batch   12/16   train_loss = 0.316\n",
      "Epoch 846 Batch   14/16   train_loss = 0.313\n",
      "Epoch 850 Batch    0/16   train_loss = 0.288\n",
      "Epoch 853 Batch    2/16   train_loss = 0.312\n",
      "Epoch 856 Batch    4/16   train_loss = 0.309\n",
      "Epoch 859 Batch    6/16   train_loss = 0.330\n",
      "Epoch 862 Batch    8/16   train_loss = 0.357\n",
      "Epoch 865 Batch   10/16   train_loss = 0.371\n",
      "Epoch 868 Batch   12/16   train_loss = 0.362\n",
      "Epoch 871 Batch   14/16   train_loss = 0.308\n",
      "Epoch 875 Batch    0/16   train_loss = 0.276\n",
      "Epoch 878 Batch    2/16   train_loss = 0.298\n",
      "Epoch 881 Batch    4/16   train_loss = 0.282\n",
      "Epoch 884 Batch    6/16   train_loss = 0.282\n",
      "Epoch 887 Batch    8/16   train_loss = 0.268\n",
      "Epoch 890 Batch   10/16   train_loss = 0.282\n",
      "Epoch 893 Batch   12/16   train_loss = 0.291\n",
      "Epoch 896 Batch   14/16   train_loss = 0.300\n",
      "Epoch 900 Batch    0/16   train_loss = 0.293\n",
      "Epoch 903 Batch    2/16   train_loss = 0.316\n",
      "Epoch 906 Batch    4/16   train_loss = 0.294\n",
      "Epoch 909 Batch    6/16   train_loss = 0.256\n",
      "Epoch 912 Batch    8/16   train_loss = 0.233\n",
      "Epoch 915 Batch   10/16   train_loss = 0.252\n",
      "Epoch 918 Batch   12/16   train_loss = 0.240\n",
      "Epoch 921 Batch   14/16   train_loss = 0.238\n",
      "Epoch 925 Batch    0/16   train_loss = 0.219\n",
      "Epoch 928 Batch    2/16   train_loss = 0.238\n",
      "Epoch 931 Batch    4/16   train_loss = 0.230\n",
      "Epoch 934 Batch    6/16   train_loss = 0.231\n",
      "Epoch 937 Batch    8/16   train_loss = 0.225\n",
      "Epoch 940 Batch   10/16   train_loss = 0.246\n",
      "Epoch 943 Batch   12/16   train_loss = 0.257\n",
      "Epoch 946 Batch   14/16   train_loss = 0.285\n",
      "Epoch 950 Batch    0/16   train_loss = 0.261\n",
      "Epoch 953 Batch    2/16   train_loss = 0.276\n",
      "Epoch 956 Batch    4/16   train_loss = 0.243\n",
      "Epoch 959 Batch    6/16   train_loss = 0.239\n",
      "Epoch 962 Batch    8/16   train_loss = 0.234\n",
      "Epoch 965 Batch   10/16   train_loss = 0.226\n",
      "Epoch 968 Batch   12/16   train_loss = 0.221\n",
      "Epoch 971 Batch   14/16   train_loss = 0.209\n",
      "Epoch 975 Batch    0/16   train_loss = 0.195\n",
      "Epoch 978 Batch    2/16   train_loss = 0.215\n",
      "Epoch 981 Batch    4/16   train_loss = 0.203\n",
      "Epoch 984 Batch    6/16   train_loss = 0.198\n",
      "Epoch 987 Batch    8/16   train_loss = 0.190\n",
      "Epoch 990 Batch   10/16   train_loss = 0.201\n",
      "Epoch 993 Batch   12/16   train_loss = 0.199\n",
      "Epoch 996 Batch   14/16   train_loss = 0.197\n",
      "Epoch 1000 Batch    0/16   train_loss = 0.189\n",
      "Epoch 1003 Batch    2/16   train_loss = 0.215\n",
      "Epoch 1006 Batch    4/16   train_loss = 0.215\n",
      "Epoch 1009 Batch    6/16   train_loss = 0.207\n",
      "Epoch 1012 Batch    8/16   train_loss = 0.215\n",
      "Epoch 1015 Batch   10/16   train_loss = 0.205\n",
      "Epoch 1018 Batch   12/16   train_loss = 0.199\n",
      "Epoch 1021 Batch   14/16   train_loss = 0.196\n",
      "Epoch 1025 Batch    0/16   train_loss = 0.191\n",
      "Epoch 1028 Batch    2/16   train_loss = 0.199\n",
      "Epoch 1031 Batch    4/16   train_loss = 0.193\n",
      "Epoch 1034 Batch    6/16   train_loss = 0.191\n",
      "Epoch 1037 Batch    8/16   train_loss = 0.173\n",
      "Epoch 1040 Batch   10/16   train_loss = 0.180\n",
      "Epoch 1043 Batch   12/16   train_loss = 0.177\n",
      "Epoch 1046 Batch   14/16   train_loss = 0.172\n",
      "Epoch 1050 Batch    0/16   train_loss = 0.158\n",
      "Epoch 1053 Batch    2/16   train_loss = 0.183\n",
      "Epoch 1056 Batch    4/16   train_loss = 0.185\n",
      "Epoch 1059 Batch    6/16   train_loss = 0.193\n",
      "Epoch 1062 Batch    8/16   train_loss = 0.196\n",
      "Epoch 1065 Batch   10/16   train_loss = 0.230\n",
      "Epoch 1068 Batch   12/16   train_loss = 0.220\n",
      "Epoch 1071 Batch   14/16   train_loss = 0.195\n",
      "Epoch 1075 Batch    0/16   train_loss = 0.165\n",
      "Epoch 1078 Batch    2/16   train_loss = 0.172\n",
      "Epoch 1081 Batch    4/16   train_loss = 0.164\n",
      "Epoch 1084 Batch    6/16   train_loss = 0.151\n",
      "Epoch 1087 Batch    8/16   train_loss = 0.144\n",
      "Epoch 1090 Batch   10/16   train_loss = 0.146\n",
      "Epoch 1093 Batch   12/16   train_loss = 0.146\n",
      "Epoch 1096 Batch   14/16   train_loss = 0.147\n",
      "Epoch 1100 Batch    0/16   train_loss = 0.129\n",
      "Epoch 1103 Batch    2/16   train_loss = 0.144\n",
      "Epoch 1106 Batch    4/16   train_loss = 0.141\n",
      "Epoch 1109 Batch    6/16   train_loss = 0.139\n",
      "Epoch 1112 Batch    8/16   train_loss = 0.134\n",
      "Epoch 1115 Batch   10/16   train_loss = 0.136\n",
      "Epoch 1118 Batch   12/16   train_loss = 0.138\n",
      "Epoch 1121 Batch   14/16   train_loss = 0.142\n",
      "Epoch 1125 Batch    0/16   train_loss = 0.129\n",
      "Epoch 1128 Batch    2/16   train_loss = 0.150\n",
      "Epoch 1131 Batch    4/16   train_loss = 0.158\n",
      "Epoch 1134 Batch    6/16   train_loss = 0.173\n",
      "Epoch 1137 Batch    8/16   train_loss = 0.199\n",
      "Epoch 1140 Batch   10/16   train_loss = 0.189\n",
      "Epoch 1143 Batch   12/16   train_loss = 0.193\n",
      "Epoch 1146 Batch   14/16   train_loss = 0.167\n",
      "Epoch 1150 Batch    0/16   train_loss = 0.127\n",
      "Epoch 1153 Batch    2/16   train_loss = 0.136\n",
      "Epoch 1156 Batch    4/16   train_loss = 0.132\n",
      "Epoch 1159 Batch    6/16   train_loss = 0.127\n",
      "Epoch 1162 Batch    8/16   train_loss = 0.123\n",
      "Epoch 1165 Batch   10/16   train_loss = 0.125\n",
      "Epoch 1168 Batch   12/16   train_loss = 0.126\n",
      "Epoch 1171 Batch   14/16   train_loss = 0.129\n",
      "Epoch 1175 Batch    0/16   train_loss = 0.112\n",
      "Epoch 1178 Batch    2/16   train_loss = 0.126\n",
      "Epoch 1181 Batch    4/16   train_loss = 0.126\n",
      "Epoch 1184 Batch    6/16   train_loss = 0.126\n",
      "Epoch 1187 Batch    8/16   train_loss = 0.130\n",
      "Epoch 1190 Batch   10/16   train_loss = 0.143\n",
      "Epoch 1193 Batch   12/16   train_loss = 0.153\n",
      "Epoch 1196 Batch   14/16   train_loss = 0.169\n",
      "Epoch 1200 Batch    0/16   train_loss = 0.178\n",
      "Epoch 1203 Batch    2/16   train_loss = 0.230\n",
      "Epoch 1206 Batch    4/16   train_loss = 0.219\n",
      "Epoch 1209 Batch    6/16   train_loss = 0.201\n",
      "Epoch 1212 Batch    8/16   train_loss = 0.150\n",
      "Epoch 1215 Batch   10/16   train_loss = 0.145\n",
      "Epoch 1218 Batch   12/16   train_loss = 0.122\n",
      "Epoch 1221 Batch   14/16   train_loss = 0.122\n",
      "Epoch 1225 Batch    0/16   train_loss = 0.105\n",
      "Epoch 1228 Batch    2/16   train_loss = 0.117\n",
      "Epoch 1231 Batch    4/16   train_loss = 0.117\n",
      "Epoch 1234 Batch    6/16   train_loss = 0.112\n",
      "Epoch 1237 Batch    8/16   train_loss = 0.110\n",
      "Epoch 1240 Batch   10/16   train_loss = 0.111\n",
      "Epoch 1243 Batch   12/16   train_loss = 0.111\n",
      "Epoch 1246 Batch   14/16   train_loss = 0.114\n",
      "Epoch 1250 Batch    0/16   train_loss = 0.098\n",
      "Epoch 1253 Batch    2/16   train_loss = 0.111\n",
      "Epoch 1256 Batch    4/16   train_loss = 0.111\n",
      "Epoch 1259 Batch    6/16   train_loss = 0.107\n",
      "Epoch 1262 Batch    8/16   train_loss = 0.106\n",
      "Epoch 1265 Batch   10/16   train_loss = 0.106\n",
      "Epoch 1268 Batch   12/16   train_loss = 0.106\n",
      "Epoch 1271 Batch   14/16   train_loss = 0.110\n",
      "Epoch 1275 Batch    0/16   train_loss = 0.095\n",
      "Epoch 1278 Batch    2/16   train_loss = 0.107\n",
      "Epoch 1281 Batch    4/16   train_loss = 0.107\n",
      "Epoch 1284 Batch    6/16   train_loss = 0.104\n",
      "Epoch 1287 Batch    8/16   train_loss = 0.102\n",
      "Epoch 1290 Batch   10/16   train_loss = 0.103\n",
      "Epoch 1293 Batch   12/16   train_loss = 0.102\n",
      "Epoch 1296 Batch   14/16   train_loss = 0.107\n",
      "Epoch 1300 Batch    0/16   train_loss = 0.092\n",
      "Epoch 1303 Batch    2/16   train_loss = 0.107\n",
      "Epoch 1306 Batch    4/16   train_loss = 0.111\n",
      "Epoch 1309 Batch    6/16   train_loss = 0.110\n",
      "Epoch 1312 Batch    8/16   train_loss = 0.120\n",
      "Epoch 1315 Batch   10/16   train_loss = 0.149\n",
      "Epoch 1318 Batch   12/16   train_loss = 0.172\n",
      "Epoch 1321 Batch   14/16   train_loss = 0.157\n",
      "Epoch 1325 Batch    0/16   train_loss = 0.141\n",
      "Epoch 1328 Batch    2/16   train_loss = 0.134\n",
      "Epoch 1331 Batch    4/16   train_loss = 0.116\n",
      "Epoch 1334 Batch    6/16   train_loss = 0.104\n",
      "Epoch 1337 Batch    8/16   train_loss = 0.101\n",
      "Epoch 1340 Batch   10/16   train_loss = 0.099\n",
      "Epoch 1343 Batch   12/16   train_loss = 0.098\n",
      "Epoch 1346 Batch   14/16   train_loss = 0.103\n",
      "Epoch 1350 Batch    0/16   train_loss = 0.087\n",
      "Epoch 1353 Batch    2/16   train_loss = 0.100\n",
      "Epoch 1356 Batch    4/16   train_loss = 0.101\n",
      "Epoch 1359 Batch    6/16   train_loss = 0.097\n",
      "Epoch 1362 Batch    8/16   train_loss = 0.095\n",
      "Epoch 1365 Batch   10/16   train_loss = 0.096\n",
      "Epoch 1368 Batch   12/16   train_loss = 0.095\n",
      "Epoch 1371 Batch   14/16   train_loss = 0.100\n",
      "Epoch 1375 Batch    0/16   train_loss = 0.085\n",
      "Epoch 1378 Batch    2/16   train_loss = 0.097\n",
      "Epoch 1381 Batch    4/16   train_loss = 0.098\n",
      "Epoch 1384 Batch    6/16   train_loss = 0.094\n",
      "Epoch 1387 Batch    8/16   train_loss = 0.093\n",
      "Epoch 1390 Batch   10/16   train_loss = 0.093\n",
      "Epoch 1393 Batch   12/16   train_loss = 0.093\n",
      "Epoch 1396 Batch   14/16   train_loss = 0.097\n",
      "Epoch 1400 Batch    0/16   train_loss = 0.083\n",
      "Epoch 1403 Batch    2/16   train_loss = 0.095\n",
      "Epoch 1406 Batch    4/16   train_loss = 0.096\n",
      "Epoch 1409 Batch    6/16   train_loss = 0.092\n",
      "Epoch 1412 Batch    8/16   train_loss = 0.092\n",
      "Epoch 1415 Batch   10/16   train_loss = 0.093\n",
      "Epoch 1418 Batch   12/16   train_loss = 0.092\n",
      "Epoch 1421 Batch   14/16   train_loss = 0.099\n",
      "Epoch 1425 Batch    0/16   train_loss = 0.088\n",
      "Epoch 1428 Batch    2/16   train_loss = 0.112\n",
      "Epoch 1431 Batch    4/16   train_loss = 0.126\n",
      "Epoch 1434 Batch    6/16   train_loss = 0.125\n",
      "Epoch 1437 Batch    8/16   train_loss = 0.143\n",
      "Epoch 1440 Batch   10/16   train_loss = 0.154\n",
      "Epoch 1443 Batch   12/16   train_loss = 0.143\n",
      "Epoch 1446 Batch   14/16   train_loss = 0.125\n",
      "Epoch 1450 Batch    0/16   train_loss = 0.104\n",
      "Epoch 1453 Batch    2/16   train_loss = 0.110\n",
      "Epoch 1456 Batch    4/16   train_loss = 0.102\n",
      "Epoch 1459 Batch    6/16   train_loss = 0.092\n",
      "Epoch 1462 Batch    8/16   train_loss = 0.091\n",
      "Epoch 1465 Batch   10/16   train_loss = 0.091\n",
      "Epoch 1468 Batch   12/16   train_loss = 0.089\n",
      "Epoch 1471 Batch   14/16   train_loss = 0.094\n",
      "Epoch 1475 Batch    0/16   train_loss = 0.080\n",
      "Epoch 1478 Batch    2/16   train_loss = 0.091\n",
      "Epoch 1481 Batch    4/16   train_loss = 0.093\n",
      "Epoch 1484 Batch    6/16   train_loss = 0.089\n",
      "Epoch 1487 Batch    8/16   train_loss = 0.088\n",
      "Epoch 1490 Batch   10/16   train_loss = 0.088\n",
      "Epoch 1493 Batch   12/16   train_loss = 0.086\n",
      "Epoch 1496 Batch   14/16   train_loss = 0.092\n",
      "Model Trained and Saved\n"
     ]
    }
   ],
   "source": [
    "\"\"\"\n",
    "DON'T MODIFY ANYTHING IN THIS CELL\n",
    "\"\"\"\n",
    "batches = get_batches(int_text, batch_size, seq_length)\n",
    "\n",
    "with tf.Session(graph=train_graph) as sess:\n",
    "    sess.run(tf.global_variables_initializer())\n",
    "\n",
    "    for epoch_i in range(num_epochs):\n",
    "        state = sess.run(initial_state, {input_text: batches[0][0]})\n",
    "\n",
    "        for batch_i, (x, y) in enumerate(batches):\n",
    "            feed = {\n",
    "                input_text: x,\n",
    "                targets: y,\n",
    "                initial_state: state,\n",
    "                lr: learning_rate}\n",
    "            train_loss, state, _ = sess.run([cost, final_state, train_op], feed)\n",
    "\n",
    "            # Show every <show_every_n_batches> batches\n",
    "            if (epoch_i * len(batches) + batch_i) % show_every_n_batches == 0:\n",
    "                print('Epoch {:>3} Batch {:>4}/{}   train_loss = {:.3f}'.format(\n",
    "                    epoch_i,\n",
    "                    batch_i,\n",
    "                    len(batches),\n",
    "                    train_loss))\n",
    "\n",
    "    # Save Model\n",
    "    saver = tf.train.Saver()\n",
    "    saver.save(sess, save_dir)\n",
    "    print('Model Trained and Saved')"
   ]
  },
  {
   "cell_type": "markdown",
   "metadata": {
    "deletable": true,
    "editable": true
   },
   "source": [
    "## Save Parameters\n",
    "Save `seq_length` and `save_dir` for generating a new TV script."
   ]
  },
  {
   "cell_type": "code",
   "execution_count": 128,
   "metadata": {
    "collapsed": false,
    "deletable": true,
    "editable": true
   },
   "outputs": [],
   "source": [
    "\"\"\"\n",
    "DON'T MODIFY ANYTHING IN THIS CELL\n",
    "\"\"\"\n",
    "# Save parameters for checkpoint\n",
    "helper.save_params((seq_length, save_dir))"
   ]
  },
  {
   "cell_type": "markdown",
   "metadata": {
    "deletable": true,
    "editable": true
   },
   "source": [
    "# Checkpoint"
   ]
  },
  {
   "cell_type": "code",
   "execution_count": 129,
   "metadata": {
    "collapsed": false,
    "deletable": true,
    "editable": true
   },
   "outputs": [],
   "source": [
    "\"\"\"\n",
    "DON'T MODIFY ANYTHING IN THIS CELL\n",
    "\"\"\"\n",
    "import tensorflow as tf\n",
    "import numpy as np\n",
    "import helper\n",
    "import problem_unittests as tests\n",
    "\n",
    "_, vocab_to_int, int_to_vocab, token_dict = helper.load_preprocess()\n",
    "seq_length, load_dir = helper.load_params()"
   ]
  },
  {
   "cell_type": "markdown",
   "metadata": {
    "deletable": true,
    "editable": true
   },
   "source": [
    "## Implement Generate Functions\n",
    "### Get Tensors\n",
    "Get tensors from `loaded_graph` using the function [`get_tensor_by_name()`](https://www.tensorflow.org/api_docs/python/tf/Graph#get_tensor_by_name).  Get the tensors using the following names:\n",
    "- \"input:0\"\n",
    "- \"initial_state:0\"\n",
    "- \"final_state:0\"\n",
    "- \"probs:0\"\n",
    "\n",
    "Return the tensors in the following tuple `(InputTensor, InitialStateTensor, FinalStateTensor, ProbsTensor)` "
   ]
  },
  {
   "cell_type": "code",
   "execution_count": 130,
   "metadata": {
    "collapsed": false,
    "deletable": true,
    "editable": true
   },
   "outputs": [
    {
     "name": "stdout",
     "output_type": "stream",
     "text": [
      "Tests Passed\n"
     ]
    }
   ],
   "source": [
    "def get_tensors(loaded_graph):\n",
    "    \"\"\"\n",
    "    Get input, initial state, final state, and probabilities tensor from <loaded_graph>\n",
    "    :param loaded_graph: TensorFlow graph loaded from file\n",
    "    :return: Tuple (InputTensor, InitialStateTensor, FinalStateTensor, ProbsTensor)\n",
    "    \"\"\"\n",
    "    # TODO: Implement Function\n",
    "    InputTensor = loaded_graph.get_tensor_by_name(\"input:0\")\n",
    "    InitialStateTensor = loaded_graph.get_tensor_by_name(\"initial_state:0\")\n",
    "    FinalStateTensor = loaded_graph.get_tensor_by_name(\"final_state:0\")\n",
    "    ProbsTensor = loaded_graph.get_tensor_by_name(\"probs:0\")\n",
    "    \n",
    "    return InputTensor, InitialStateTensor, FinalStateTensor, ProbsTensor\n",
    "\n",
    "\n",
    "\"\"\"\n",
    "DON'T MODIFY ANYTHING IN THIS CELL THAT IS BELOW THIS LINE\n",
    "\"\"\"\n",
    "tests.test_get_tensors(get_tensors)"
   ]
  },
  {
   "cell_type": "markdown",
   "metadata": {
    "deletable": true,
    "editable": true
   },
   "source": [
    "### Choose Word\n",
    "Implement the `pick_word()` function to select the next word using `probabilities`."
   ]
  },
  {
   "cell_type": "code",
   "execution_count": 131,
   "metadata": {
    "collapsed": false,
    "deletable": true,
    "editable": true
   },
   "outputs": [
    {
     "name": "stdout",
     "output_type": "stream",
     "text": [
      "Tests Passed\n"
     ]
    }
   ],
   "source": [
    "def pick_word(probabilities, int_to_vocab):\n",
    "    \"\"\"\n",
    "    Pick the next word in the generated text\n",
    "    :param probabilities: Probabilites of the next word\n",
    "    :param int_to_vocab: Dictionary of word ids as the keys and words as the values\n",
    "    :return: String of the predicted word\n",
    "    \"\"\"\n",
    "    # TODO: Implement Function\n",
    "    return int_to_vocab[np.argmax(probabilities)]\n",
    "\n",
    "\n",
    "\"\"\"\n",
    "DON'T MODIFY ANYTHING IN THIS CELL THAT IS BELOW THIS LINE\n",
    "\"\"\"\n",
    "tests.test_pick_word(pick_word)"
   ]
  },
  {
   "cell_type": "markdown",
   "metadata": {
    "deletable": true,
    "editable": true
   },
   "source": [
    "## Generate TV Script\n",
    "This will generate the TV script for you.  Set `gen_length` to the length of TV script you want to generate."
   ]
  },
  {
   "cell_type": "code",
   "execution_count": 132,
   "metadata": {
    "collapsed": false,
    "deletable": true,
    "editable": true
   },
   "outputs": [
    {
     "name": "stdout",
     "output_type": "stream",
     "text": [
      "moe_szyslak:(laughs) he'd be all\" look at me! i'm a tanked-up loser in a helicopter!\"\n",
      "moe_szyslak:(sweetly) ah, anyway, happy b-day, thank you really help her lovely bones all over cars in the lone star state tonight.(worried) okay, i really need your sharity!\n",
      "homer_simpson: is this. / what i think i'm thinking more like drapes there's no day(laughs)\n",
      "homer_simpson: i am.\n",
      "carl_carlson: huh, just ran out of there! i've got to pull! he's back. he's a pussycat. we got the little more sensitivity around these jobless washouts, but\" they had a chance.\n",
      "moe_szyslak: yeah, i was pretty great to see a picture noise.\n",
      "moe_szyslak:(\" duh\") are you really help us fight each other.\n",
      "health_inspector: my pop would buy me a malted for?\n",
      "lenny_leonard: we can't get drunk and vomit next to a guy's face and that.\n",
      "moe_szyslak: ah, it's just a beer.\n",
      "moe_szyslak:(warily) i dunno if it\n"
     ]
    }
   ],
   "source": [
    "gen_length = 200\n",
    "# homer_simpson, moe_szyslak, or Barney_Gumble\n",
    "prime_word = 'moe_szyslak'\n",
    "\n",
    "\"\"\"\n",
    "DON'T MODIFY ANYTHING IN THIS CELL THAT IS BELOW THIS LINE\n",
    "\"\"\"\n",
    "loaded_graph = tf.Graph()\n",
    "with tf.Session(graph=loaded_graph) as sess:\n",
    "    # Load saved model\n",
    "    loader = tf.train.import_meta_graph(load_dir + '.meta')\n",
    "    loader.restore(sess, load_dir)\n",
    "\n",
    "    # Get Tensors from loaded model\n",
    "    input_text, initial_state, final_state, probs = get_tensors(loaded_graph)\n",
    "\n",
    "    # Sentences generation setup\n",
    "    gen_sentences = [prime_word + ':']\n",
    "    prev_state = sess.run(initial_state, {input_text: np.array([[1]])})\n",
    "\n",
    "    # Generate sentences\n",
    "    for n in range(gen_length):\n",
    "        # Dynamic Input\n",
    "        dyn_input = [[vocab_to_int[word] for word in gen_sentences[-seq_length:]]]\n",
    "        dyn_seq_length = len(dyn_input[0])\n",
    "\n",
    "        # Get Prediction\n",
    "        probabilities, prev_state = sess.run(\n",
    "            [probs, final_state],\n",
    "            {input_text: dyn_input, initial_state: prev_state})\n",
    "        \n",
    "        pred_word = pick_word(probabilities[dyn_seq_length-1], int_to_vocab)\n",
    "\n",
    "        gen_sentences.append(pred_word)\n",
    "    \n",
    "    # Remove tokens\n",
    "    tv_script = ' '.join(gen_sentences)\n",
    "    for key, token in token_dict.items():\n",
    "        ending = ' ' if key in ['\\n', '(', '\"'] else ''\n",
    "        tv_script = tv_script.replace(' ' + token.lower(), key)\n",
    "    tv_script = tv_script.replace('\\n ', '\\n')\n",
    "    tv_script = tv_script.replace('( ', '(')\n",
    "        \n",
    "    print(tv_script)"
   ]
  },
  {
   "cell_type": "markdown",
   "metadata": {
    "deletable": true,
    "editable": true
   },
   "source": [
    "# The TV Script is Nonsensical\n",
    "It's ok if the TV script doesn't make any sense.  We trained on less than a megabyte of text.  In order to get good results, you'll have to use a smaller vocabulary or get more data.  Luckly there's more data!  As we mentioned in the begging of this project, this is a subset of [another dataset](https://www.kaggle.com/wcukierski/the-simpsons-by-the-data).  We didn't have you train on all the data, because that would take too long.  However, you are free to train your neural network on all the data.  After you complete the project, of course.\n",
    "# Submitting This Project\n",
    "When submitting this project, make sure to run all the cells before saving the notebook. Save the notebook file as \"dlnd_tv_script_generation.ipynb\" and save it as a HTML file under \"File\" -> \"Download as\". Include the \"helper.py\" and \"problem_unittests.py\" files in your submission."
   ]
  }
 ],
 "metadata": {
  "kernelspec": {
   "display_name": "Python 3",
   "language": "python",
   "name": "python3"
  },
  "language_info": {
   "codemirror_mode": {
    "name": "ipython",
    "version": 3
   },
   "file_extension": ".py",
   "mimetype": "text/x-python",
   "name": "python",
   "nbconvert_exporter": "python",
   "pygments_lexer": "ipython3",
   "version": "3.6.0"
  }
 },
 "nbformat": 4,
 "nbformat_minor": 0
}
